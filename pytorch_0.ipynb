{
  "nbformat": 4,
  "nbformat_minor": 0,
  "metadata": {
    "colab": {
      "provenance": [],
      "authorship_tag": "ABX9TyP2h8/W0LShrtsU7vKQcOJX",
      "include_colab_link": true
    },
    "kernelspec": {
      "name": "python3",
      "display_name": "Python 3"
    },
    "language_info": {
      "name": "python"
    }
  },
  "cells": [
    {
      "cell_type": "markdown",
      "metadata": {
        "id": "view-in-github",
        "colab_type": "text"
      },
      "source": [
        "<a href=\"https://colab.research.google.com/github/therishabhmittal-05/Pytorch/blob/main/pytorch_0.ipynb\" target=\"_parent\"><img src=\"https://colab.research.google.com/assets/colab-badge.svg\" alt=\"Open In Colab\"/></a>"
      ]
    },
    {
      "cell_type": "code",
      "execution_count": null,
      "metadata": {
        "id": "jvMluBUJwsZ8"
      },
      "outputs": [],
      "source": [
        "import torch"
      ]
    },
    {
      "cell_type": "code",
      "source": [
        "torch.__version__"
      ],
      "metadata": {
        "colab": {
          "base_uri": "https://localhost:8080/",
          "height": 36
        },
        "id": "yKyTULaDw2dT",
        "outputId": "6cdf75a6-00d7-4a15-b6f7-963d70e00651"
      },
      "execution_count": null,
      "outputs": [
        {
          "output_type": "execute_result",
          "data": {
            "text/plain": [
              "'2.6.0+cu124'"
            ],
            "application/vnd.google.colaboratory.intrinsic+json": {
              "type": "string"
            }
          },
          "metadata": {},
          "execution_count": 2
        }
      ]
    },
    {
      "cell_type": "code",
      "source": [
        "scalar = torch.tensor(2)\n",
        "vector = torch.tensor([2,3])\n",
        "matrix = torch.tensor([[[2,3,4,5],\n",
        "                       [2,4,5,5],\n",
        "                       [2, 5, 8, 3]],\n",
        "                       [[2,3,4,5],\n",
        "                       [2,4,5,5],\n",
        "                       [2, 5, 8, 3]]])\n",
        "matrix2 = torch.tensor([[2,3,4,5],\n",
        "                       [2,4,5,5],\n",
        "                       [2, 5, 8, 3]])"
      ],
      "metadata": {
        "id": "_a4r9wwow9YP"
      },
      "execution_count": null,
      "outputs": []
    },
    {
      "cell_type": "code",
      "source": [
        "scalar, vector, matrix, matrix2"
      ],
      "metadata": {
        "colab": {
          "base_uri": "https://localhost:8080/"
        },
        "id": "P3y5A4GqxCPQ",
        "outputId": "7d887235-852d-4348-e52f-ce64ebcecad4"
      },
      "execution_count": null,
      "outputs": [
        {
          "output_type": "execute_result",
          "data": {
            "text/plain": [
              "(tensor(2),\n",
              " tensor([2, 3]),\n",
              " tensor([[[2, 3, 4, 5],\n",
              "          [2, 4, 5, 5],\n",
              "          [2, 5, 8, 3]],\n",
              " \n",
              "         [[2, 3, 4, 5],\n",
              "          [2, 4, 5, 5],\n",
              "          [2, 5, 8, 3]]]),\n",
              " tensor([[2, 3, 4, 5],\n",
              "         [2, 4, 5, 5],\n",
              "         [2, 5, 8, 3]]))"
            ]
          },
          "metadata": {},
          "execution_count": 20
        }
      ]
    },
    {
      "cell_type": "code",
      "source": [
        "matrix2.shape"
      ],
      "metadata": {
        "colab": {
          "base_uri": "https://localhost:8080/"
        },
        "id": "F0vPXv5ixjdE",
        "outputId": "ba333b7b-794f-4b8c-b726-8f624730995e"
      },
      "execution_count": null,
      "outputs": [
        {
          "output_type": "execute_result",
          "data": {
            "text/plain": [
              "torch.Size([3, 4])"
            ]
          },
          "metadata": {},
          "execution_count": 21
        }
      ]
    },
    {
      "cell_type": "code",
      "source": [
        "matrix2.ndim"
      ],
      "metadata": {
        "colab": {
          "base_uri": "https://localhost:8080/"
        },
        "id": "eTSSN-1YxnaS",
        "outputId": "7a2de6e6-f775-4f01-90c4-82d5b2f1318c"
      },
      "execution_count": null,
      "outputs": [
        {
          "output_type": "execute_result",
          "data": {
            "text/plain": [
              "2"
            ]
          },
          "metadata": {},
          "execution_count": 22
        }
      ]
    },
    {
      "cell_type": "code",
      "source": [
        "matrix.size()"
      ],
      "metadata": {
        "colab": {
          "base_uri": "https://localhost:8080/"
        },
        "id": "Pdkc7WY5x7Qp",
        "outputId": "b7bdbcb3-4a65-4b56-9fb2-54110714afb5"
      },
      "execution_count": null,
      "outputs": [
        {
          "output_type": "execute_result",
          "data": {
            "text/plain": [
              "torch.Size([2, 3, 4])"
            ]
          },
          "metadata": {},
          "execution_count": 24
        }
      ]
    },
    {
      "cell_type": "code",
      "source": [
        "tensor0 = torch.rand(224, 224, 3)"
      ],
      "metadata": {
        "id": "nJt-m7cVygpp"
      },
      "execution_count": null,
      "outputs": []
    },
    {
      "cell_type": "code",
      "source": [
        "tensor0"
      ],
      "metadata": {
        "colab": {
          "base_uri": "https://localhost:8080/"
        },
        "id": "EdEXwUFayt-o",
        "outputId": "7c641471-7ce4-4688-f410-4ce7a3f25c32"
      },
      "execution_count": null,
      "outputs": [
        {
          "output_type": "execute_result",
          "data": {
            "text/plain": [
              "tensor([[[0.3901, 0.4744, 0.6469],\n",
              "         [0.2883, 0.8234, 0.1319],\n",
              "         [0.1185, 0.8589, 0.5317],\n",
              "         ...,\n",
              "         [0.7063, 0.8068, 0.8197],\n",
              "         [0.8348, 0.1410, 0.0794],\n",
              "         [0.5827, 0.8935, 0.6484]],\n",
              "\n",
              "        [[0.0919, 0.0261, 0.7432],\n",
              "         [0.4585, 0.2762, 0.6133],\n",
              "         [0.7441, 0.9021, 0.2436],\n",
              "         ...,\n",
              "         [0.0206, 0.3574, 0.2620],\n",
              "         [0.9138, 0.7353, 0.0611],\n",
              "         [0.8351, 0.8647, 0.5383]],\n",
              "\n",
              "        [[0.9836, 0.5735, 0.4487],\n",
              "         [0.1847, 0.5721, 0.4075],\n",
              "         [0.5065, 0.0038, 0.1263],\n",
              "         ...,\n",
              "         [0.5418, 0.6300, 0.3232],\n",
              "         [0.3081, 0.6086, 0.5068],\n",
              "         [0.6569, 0.1819, 0.4524]],\n",
              "\n",
              "        ...,\n",
              "\n",
              "        [[0.2740, 0.9246, 0.9449],\n",
              "         [0.2953, 0.5849, 0.3095],\n",
              "         [0.2480, 0.4683, 0.9281],\n",
              "         ...,\n",
              "         [0.2300, 0.4332, 0.5453],\n",
              "         [0.9808, 0.4714, 0.4051],\n",
              "         [0.3037, 0.8456, 0.6908]],\n",
              "\n",
              "        [[0.4637, 0.4611, 0.4390],\n",
              "         [0.1931, 0.7355, 0.2152],\n",
              "         [0.4456, 0.9169, 0.6673],\n",
              "         ...,\n",
              "         [0.5912, 0.8989, 0.4987],\n",
              "         [0.5795, 0.8921, 0.2527],\n",
              "         [0.9257, 0.4144, 0.4309]],\n",
              "\n",
              "        [[0.7173, 0.7524, 0.5394],\n",
              "         [0.7053, 0.6843, 0.2958],\n",
              "         [0.4142, 0.0279, 0.4010],\n",
              "         ...,\n",
              "         [0.9481, 0.4250, 0.7298],\n",
              "         [0.9352, 0.7230, 0.3005],\n",
              "         [0.8550, 0.6937, 0.8576]]])"
            ]
          },
          "metadata": {},
          "execution_count": 31
        }
      ]
    },
    {
      "cell_type": "code",
      "source": [
        "tensor0.shape, tensor0.size(), tensor0.ndim"
      ],
      "metadata": {
        "colab": {
          "base_uri": "https://localhost:8080/"
        },
        "id": "0GMMh1NkyvfQ",
        "outputId": "3441ab8c-cceb-4c8e-c8d5-342b2adba634"
      },
      "execution_count": null,
      "outputs": [
        {
          "output_type": "execute_result",
          "data": {
            "text/plain": [
              "(torch.Size([224, 224, 3]), torch.Size([224, 224, 3]), 3)"
            ]
          },
          "metadata": {},
          "execution_count": 33
        }
      ]
    },
    {
      "cell_type": "code",
      "source": [
        "tensor1 = torch.zeros_like(input = tensor0)"
      ],
      "metadata": {
        "id": "vV4BHY7ezAt2"
      },
      "execution_count": null,
      "outputs": []
    },
    {
      "cell_type": "code",
      "source": [
        "tensor1"
      ],
      "metadata": {
        "colab": {
          "base_uri": "https://localhost:8080/"
        },
        "id": "fSS-VTrmzVAp",
        "outputId": "dec76768-3ace-42db-d7da-5b1415ae600f"
      },
      "execution_count": null,
      "outputs": [
        {
          "output_type": "execute_result",
          "data": {
            "text/plain": [
              "tensor([[[0., 0., 0.],\n",
              "         [0., 0., 0.],\n",
              "         [0., 0., 0.],\n",
              "         ...,\n",
              "         [0., 0., 0.],\n",
              "         [0., 0., 0.],\n",
              "         [0., 0., 0.]],\n",
              "\n",
              "        [[0., 0., 0.],\n",
              "         [0., 0., 0.],\n",
              "         [0., 0., 0.],\n",
              "         ...,\n",
              "         [0., 0., 0.],\n",
              "         [0., 0., 0.],\n",
              "         [0., 0., 0.]],\n",
              "\n",
              "        [[0., 0., 0.],\n",
              "         [0., 0., 0.],\n",
              "         [0., 0., 0.],\n",
              "         ...,\n",
              "         [0., 0., 0.],\n",
              "         [0., 0., 0.],\n",
              "         [0., 0., 0.]],\n",
              "\n",
              "        ...,\n",
              "\n",
              "        [[0., 0., 0.],\n",
              "         [0., 0., 0.],\n",
              "         [0., 0., 0.],\n",
              "         ...,\n",
              "         [0., 0., 0.],\n",
              "         [0., 0., 0.],\n",
              "         [0., 0., 0.]],\n",
              "\n",
              "        [[0., 0., 0.],\n",
              "         [0., 0., 0.],\n",
              "         [0., 0., 0.],\n",
              "         ...,\n",
              "         [0., 0., 0.],\n",
              "         [0., 0., 0.],\n",
              "         [0., 0., 0.]],\n",
              "\n",
              "        [[0., 0., 0.],\n",
              "         [0., 0., 0.],\n",
              "         [0., 0., 0.],\n",
              "         ...,\n",
              "         [0., 0., 0.],\n",
              "         [0., 0., 0.],\n",
              "         [0., 0., 0.]]])"
            ]
          },
          "metadata": {},
          "execution_count": 36
        }
      ]
    },
    {
      "cell_type": "code",
      "source": [
        "tensor2 = torch.arange(0, 10, 0.01)"
      ],
      "metadata": {
        "id": "Dpefiwd-zVr3"
      },
      "execution_count": null,
      "outputs": []
    },
    {
      "cell_type": "code",
      "source": [
        "tensor2.ndim"
      ],
      "metadata": {
        "colab": {
          "base_uri": "https://localhost:8080/"
        },
        "id": "mr8ZEYT-zvh8",
        "outputId": "f5d8e676-508a-452b-f937-217dc04c4d30"
      },
      "execution_count": null,
      "outputs": [
        {
          "output_type": "execute_result",
          "data": {
            "text/plain": [
              "1"
            ]
          },
          "metadata": {},
          "execution_count": 39
        }
      ]
    },
    {
      "cell_type": "code",
      "source": [
        "tensor3 = torch.rand(4,\n",
        "                     dtype=torch.float16,\n",
        "                     requires_grad=False,\n",
        "                     device=None)\n",
        "tensor3"
      ],
      "metadata": {
        "colab": {
          "base_uri": "https://localhost:8080/"
        },
        "id": "B63DIMHRzwvI",
        "outputId": "9c5c6ba5-ba09-454a-ea03-4fcc24352d0b"
      },
      "execution_count": null,
      "outputs": [
        {
          "output_type": "execute_result",
          "data": {
            "text/plain": [
              "tensor([0.7324, 0.4399, 0.1509, 0.8516], dtype=torch.float16)"
            ]
          },
          "metadata": {},
          "execution_count": 45
        }
      ]
    },
    {
      "cell_type": "code",
      "source": [
        "tensor3.shape, tensor3.ndim, tensor3.device, tensor3.dtype"
      ],
      "metadata": {
        "colab": {
          "base_uri": "https://localhost:8080/"
        },
        "id": "HmfbgsPX5nFC",
        "outputId": "1071ac99-b538-4787-fc18-3d02ffc8f2e1"
      },
      "execution_count": null,
      "outputs": [
        {
          "output_type": "execute_result",
          "data": {
            "text/plain": [
              "(torch.Size([4]), 1, device(type='cpu'), torch.float16)"
            ]
          },
          "metadata": {},
          "execution_count": 44
        }
      ]
    },
    {
      "cell_type": "markdown",
      "source": [
        "issues when dealing with Pytorch Tensor\\\n",
        "What, What, Where\\\n",
        "shape, datatype, device"
      ],
      "metadata": {
        "id": "sifVm3qQ6Yzz"
      }
    },
    {
      "cell_type": "markdown",
      "source": [
        "# Tensor Operation\n",
        "Addition\\\n",
        "Substraction\\\n",
        "Multiplication (element-wise)\\\n",
        "Division\\\n",
        "Matrix multiplication"
      ],
      "metadata": {
        "id": "r5fBcH8L7B1M"
      }
    },
    {
      "cell_type": "code",
      "source": [],
      "metadata": {
        "id": "c4qy-5Ss5oNP"
      },
      "execution_count": null,
      "outputs": []
    }
  ]
}