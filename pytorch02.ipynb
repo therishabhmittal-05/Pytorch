{
  "nbformat": 4,
  "nbformat_minor": 0,
  "metadata": {
    "colab": {
      "provenance": [],
      "authorship_tag": "ABX9TyNeM5iNkuq9WmVswy4Wvgv/",
      "include_colab_link": true
    },
    "kernelspec": {
      "name": "python3",
      "display_name": "Python 3"
    },
    "language_info": {
      "name": "python"
    }
  },
  "cells": [
    {
      "cell_type": "markdown",
      "metadata": {
        "id": "view-in-github",
        "colab_type": "text"
      },
      "source": [
        "<a href=\"https://colab.research.google.com/github/therishabhmittal-05/Pytorch/blob/main/pytorch02.ipynb\" target=\"_parent\"><img src=\"https://colab.research.google.com/assets/colab-badge.svg\" alt=\"Open In Colab\"/></a>"
      ]
    },
    {
      "cell_type": "code",
      "execution_count": 55,
      "metadata": {
        "id": "ulJriLsvz0YA"
      },
      "outputs": [],
      "source": [
        "import torch\n",
        "from torch import nn, optim\n",
        "import numpy as np\n",
        "import pandas as pd"
      ]
    },
    {
      "cell_type": "code",
      "source": [
        "dataset = pd.read_csv(\"/content/pima-indians-diabetes.data.csv\")"
      ],
      "metadata": {
        "id": "keOEcuiD4MDU"
      },
      "execution_count": 56,
      "outputs": []
    },
    {
      "cell_type": "code",
      "source": [
        "dataset = dataset.to_numpy()"
      ],
      "metadata": {
        "id": "ri9_RH3_4TWz"
      },
      "execution_count": 57,
      "outputs": []
    },
    {
      "cell_type": "code",
      "source": [
        "X = dataset[:, :8]\n",
        "y = dataset[:, 8]"
      ],
      "metadata": {
        "id": "ptwG6MQ-4VKA"
      },
      "execution_count": 58,
      "outputs": []
    },
    {
      "cell_type": "code",
      "source": [
        "X = torch.tensor(X, dtype=torch.float32)\n",
        "y = torch.tensor(y, dtype=torch.float32).reshape(-1, 1)"
      ],
      "metadata": {
        "id": "i7KUeMBG4r3w"
      },
      "execution_count": 59,
      "outputs": []
    },
    {
      "cell_type": "code",
      "source": [
        "class PimaClassifier(nn.Module):\n",
        "  def __init__(self):\n",
        "    super().__init__()\n",
        "    self.h1 = nn.Linear(8, 24)\n",
        "    self.act1 = nn.ReLU()\n",
        "    self.h2 = nn.Linear(24, 16)\n",
        "    self.act2 = nn.ReLU()\n",
        "    self.h3 = nn.Linear(16, 8)\n",
        "    self.act3 = nn.ReLU()\n",
        "    self.output = nn.Linear(8, 1)\n",
        "    self.act_op = nn.Sigmoid()\n",
        "\n",
        "  def forward(self, x):\n",
        "    x = self.act1(self.h1(x))\n",
        "    x = self.act2(self.h2(x))\n",
        "    x = self.act3(self.h3(x))\n",
        "    x = self.act_op(self.output(x))\n",
        "    return x"
      ],
      "metadata": {
        "id": "MEC9XX7X4u_c"
      },
      "execution_count": 60,
      "outputs": []
    },
    {
      "cell_type": "code",
      "source": [
        "model = PimaClassifier()\n",
        "print(model)"
      ],
      "metadata": {
        "colab": {
          "base_uri": "https://localhost:8080/"
        },
        "id": "9W0XF7Lw49Zz",
        "outputId": "4612a719-94d1-4e47-c4d7-58feaec025af"
      },
      "execution_count": 61,
      "outputs": [
        {
          "output_type": "stream",
          "name": "stdout",
          "text": [
            "PimaClassifier(\n",
            "  (h1): Linear(in_features=8, out_features=24, bias=True)\n",
            "  (act1): ReLU()\n",
            "  (h2): Linear(in_features=24, out_features=16, bias=True)\n",
            "  (act2): ReLU()\n",
            "  (h3): Linear(in_features=16, out_features=8, bias=True)\n",
            "  (act3): ReLU()\n",
            "  (output): Linear(in_features=8, out_features=1, bias=True)\n",
            "  (act_op): Sigmoid()\n",
            ")\n"
          ]
        }
      ]
    },
    {
      "cell_type": "code",
      "source": [
        "lossfn = nn.BCELoss()\n",
        "optimizer = optim.Adam(model.parameters(), lr = 0.01)"
      ],
      "metadata": {
        "id": "2dnrpRi56QNR"
      },
      "execution_count": 62,
      "outputs": []
    },
    {
      "cell_type": "code",
      "source": [
        "n_epochs = 100\n",
        "batch = 10\n",
        "\n",
        "for epoch in range(n_epochs):\n",
        "  for i in range(0, len(X), batch):\n",
        "    X_b = X[i:i+batch]\n",
        "    yhat = model(X_b)\n",
        "    y_b = y[i:i+batch]\n",
        "    loss = lossfn(yhat, y_b)\n",
        "    optimizer.zero_grad()\n",
        "    loss.backward()\n",
        "    optimizer.step()\n",
        "  print(f\"Epoch: {epoch}, Loss: {loss}\")"
      ],
      "metadata": {
        "colab": {
          "base_uri": "https://localhost:8080/"
        },
        "id": "9tt5pU-86--P",
        "outputId": "ac128774-38a9-496b-9550-e47fd049912c"
      },
      "execution_count": 63,
      "outputs": [
        {
          "output_type": "stream",
          "name": "stdout",
          "text": [
            "Epoch: 0, Loss: 0.6238493323326111\n",
            "Epoch: 1, Loss: 0.5425277948379517\n",
            "Epoch: 2, Loss: 0.6057472825050354\n",
            "Epoch: 3, Loss: 0.5674094557762146\n",
            "Epoch: 4, Loss: 0.5844416618347168\n",
            "Epoch: 5, Loss: 0.5328767895698547\n",
            "Epoch: 6, Loss: 0.5558223724365234\n",
            "Epoch: 7, Loss: 0.5323939323425293\n",
            "Epoch: 8, Loss: 0.506176769733429\n",
            "Epoch: 9, Loss: 0.5113627314567566\n",
            "Epoch: 10, Loss: 0.47864454984664917\n",
            "Epoch: 11, Loss: 0.4736129343509674\n",
            "Epoch: 12, Loss: 0.4768419563770294\n",
            "Epoch: 13, Loss: 0.48947030305862427\n",
            "Epoch: 14, Loss: 0.5086912512779236\n",
            "Epoch: 15, Loss: 0.5164824724197388\n",
            "Epoch: 16, Loss: 0.5588284730911255\n",
            "Epoch: 17, Loss: 0.47734856605529785\n",
            "Epoch: 18, Loss: 0.5241701602935791\n",
            "Epoch: 19, Loss: 0.45375701785087585\n",
            "Epoch: 20, Loss: 0.47031235694885254\n",
            "Epoch: 21, Loss: 0.4540591537952423\n",
            "Epoch: 22, Loss: 0.5250455141067505\n",
            "Epoch: 23, Loss: 0.47549861669540405\n",
            "Epoch: 24, Loss: 0.4996446967124939\n",
            "Epoch: 25, Loss: 0.479375422000885\n",
            "Epoch: 26, Loss: 0.5093079209327698\n",
            "Epoch: 27, Loss: 0.4975467324256897\n",
            "Epoch: 28, Loss: 0.4922018349170685\n",
            "Epoch: 29, Loss: 0.4867410957813263\n",
            "Epoch: 30, Loss: 0.48487764596939087\n",
            "Epoch: 31, Loss: 0.45801952481269836\n",
            "Epoch: 32, Loss: 0.4736202657222748\n",
            "Epoch: 33, Loss: 0.511538028717041\n",
            "Epoch: 34, Loss: 0.48259299993515015\n",
            "Epoch: 35, Loss: 0.47217315435409546\n",
            "Epoch: 36, Loss: 0.48165276646614075\n",
            "Epoch: 37, Loss: 0.4823610484600067\n",
            "Epoch: 38, Loss: 0.48784729838371277\n",
            "Epoch: 39, Loss: 0.45673584938049316\n",
            "Epoch: 40, Loss: 0.49602916836738586\n",
            "Epoch: 41, Loss: 0.44697245955467224\n",
            "Epoch: 42, Loss: 0.43486449122428894\n",
            "Epoch: 43, Loss: 0.4457675814628601\n",
            "Epoch: 44, Loss: 0.4241431653499603\n",
            "Epoch: 45, Loss: 0.4850142002105713\n",
            "Epoch: 46, Loss: 0.4791842997074127\n",
            "Epoch: 47, Loss: 0.43813827633857727\n",
            "Epoch: 48, Loss: 0.38262030482292175\n",
            "Epoch: 49, Loss: 0.4384436011314392\n",
            "Epoch: 50, Loss: 0.4974810779094696\n",
            "Epoch: 51, Loss: 0.4626101553440094\n",
            "Epoch: 52, Loss: 0.42637306451797485\n",
            "Epoch: 53, Loss: 0.4287315011024475\n",
            "Epoch: 54, Loss: 0.39096829295158386\n",
            "Epoch: 55, Loss: 0.43007633090019226\n",
            "Epoch: 56, Loss: 0.3851056694984436\n",
            "Epoch: 57, Loss: 0.43553426861763\n",
            "Epoch: 58, Loss: 0.41133755445480347\n",
            "Epoch: 59, Loss: 0.41165679693222046\n",
            "Epoch: 60, Loss: 0.42687729001045227\n",
            "Epoch: 61, Loss: 0.39337271451950073\n",
            "Epoch: 62, Loss: 0.4071596562862396\n",
            "Epoch: 63, Loss: 0.38613373041152954\n",
            "Epoch: 64, Loss: 0.3956019878387451\n",
            "Epoch: 65, Loss: 0.41007497906684875\n",
            "Epoch: 66, Loss: 0.40005064010620117\n",
            "Epoch: 67, Loss: 0.3977944552898407\n",
            "Epoch: 68, Loss: 0.3827998638153076\n",
            "Epoch: 69, Loss: 0.3913707733154297\n",
            "Epoch: 70, Loss: 0.3877491354942322\n",
            "Epoch: 71, Loss: 0.39193791151046753\n",
            "Epoch: 72, Loss: 0.3893360495567322\n",
            "Epoch: 73, Loss: 0.3899538218975067\n",
            "Epoch: 74, Loss: 0.3908741772174835\n",
            "Epoch: 75, Loss: 0.38675937056541443\n",
            "Epoch: 76, Loss: 0.39710697531700134\n",
            "Epoch: 77, Loss: 0.4011494815349579\n",
            "Epoch: 78, Loss: 0.4004986584186554\n",
            "Epoch: 79, Loss: 0.40787309408187866\n",
            "Epoch: 80, Loss: 0.3919520974159241\n",
            "Epoch: 81, Loss: 0.4087776839733124\n",
            "Epoch: 82, Loss: 0.38943248987197876\n",
            "Epoch: 83, Loss: 0.39133262634277344\n",
            "Epoch: 84, Loss: 0.4077938199043274\n",
            "Epoch: 85, Loss: 0.40419647097587585\n",
            "Epoch: 86, Loss: 0.3877484202384949\n",
            "Epoch: 87, Loss: 0.37468722462654114\n",
            "Epoch: 88, Loss: 0.38642317056655884\n",
            "Epoch: 89, Loss: 0.3845815062522888\n",
            "Epoch: 90, Loss: 0.39733263850212097\n",
            "Epoch: 91, Loss: 0.38558441400527954\n",
            "Epoch: 92, Loss: 0.40033361315727234\n",
            "Epoch: 93, Loss: 0.399610310792923\n",
            "Epoch: 94, Loss: 0.37597280740737915\n",
            "Epoch: 95, Loss: 0.45700618624687195\n",
            "Epoch: 96, Loss: 0.38108357787132263\n",
            "Epoch: 97, Loss: 0.4161180555820465\n",
            "Epoch: 98, Loss: 0.3921121656894684\n",
            "Epoch: 99, Loss: 0.38618579506874084\n"
          ]
        }
      ]
    },
    {
      "cell_type": "code",
      "source": [
        "with torch.no_grad():\n",
        "  y_pred = model(X)\n",
        "accuracy = (y_pred.round() == y).float().mean()\n",
        "\n",
        "print(f\"accuracy: {accuracy*100}%\")"
      ],
      "metadata": {
        "colab": {
          "base_uri": "https://localhost:8080/"
        },
        "id": "nJBN07j78gZO",
        "outputId": "b1528c68-638d-4c66-819f-d1bd3ca4ca7e"
      },
      "execution_count": 65,
      "outputs": [
        {
          "output_type": "stream",
          "name": "stdout",
          "text": [
            "accuracy: 77.314208984375%\n"
          ]
        }
      ]
    },
    {
      "cell_type": "code",
      "source": [],
      "metadata": {
        "id": "DGwaDFug-IkR"
      },
      "execution_count": null,
      "outputs": []
    }
  ]
}