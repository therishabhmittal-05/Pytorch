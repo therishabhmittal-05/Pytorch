{
  "nbformat": 4,
  "nbformat_minor": 0,
  "metadata": {
    "colab": {
      "provenance": [],
      "gpuType": "T4",
      "authorship_tag": "ABX9TyNbT4MociOD7DfBdEMxcI31",
      "include_colab_link": true
    },
    "kernelspec": {
      "name": "python3",
      "display_name": "Python 3"
    },
    "language_info": {
      "name": "python"
    },
    "accelerator": "GPU"
  },
  "cells": [
    {
      "cell_type": "markdown",
      "metadata": {
        "id": "view-in-github",
        "colab_type": "text"
      },
      "source": [
        "<a href=\"https://colab.research.google.com/github/therishabhmittal-05/Pytorch/blob/main/pytorch_05.ipynb\" target=\"_parent\"><img src=\"https://colab.research.google.com/assets/colab-badge.svg\" alt=\"Open In Colab\"/></a>"
      ]
    },
    {
      "cell_type": "code",
      "execution_count": 1,
      "metadata": {
        "id": "GA5zz26b3e3N"
      },
      "outputs": [],
      "source": [
        "import torch\n",
        "from torch import nn, optim"
      ]
    },
    {
      "cell_type": "code",
      "source": [
        "from sklearn.datasets import make_circles\n",
        "n_samples = 1500\n",
        "X, y = make_circles(\n",
        "    n_samples,\n",
        "    noise=0.07,\n",
        "    random_state=42\n",
        ")"
      ],
      "metadata": {
        "id": "IrkVMtDa4PwQ"
      },
      "execution_count": 2,
      "outputs": []
    },
    {
      "cell_type": "code",
      "source": [
        "import pandas as pd\n",
        "import matplotlib.pyplot as plt\n",
        "\n",
        "circles = pd.DataFrame({'x1_cor': X[:, 0], 'x2_cor': X[:, 1], 'y': y[:]})"
      ],
      "metadata": {
        "id": "setdXRwJ4fhc"
      },
      "execution_count": 3,
      "outputs": []
    },
    {
      "cell_type": "code",
      "source": [
        "circles.head()"
      ],
      "metadata": {
        "colab": {
          "base_uri": "https://localhost:8080/",
          "height": 206
        },
        "id": "GiAxHOKN5I6c",
        "outputId": "0e96f0ac-e395-4baf-d093-90c5c0cd2d13"
      },
      "execution_count": 4,
      "outputs": [
        {
          "output_type": "execute_result",
          "data": {
            "text/plain": [
              "     x1_cor    x2_cor  y\n",
              "0 -0.785851  0.060051  1\n",
              "1  0.352609 -0.648894  1\n",
              "2 -0.826999 -0.335800  0\n",
              "3 -0.959068 -0.234201  0\n",
              "4 -0.908633 -0.644666  0"
            ],
            "text/html": [
              "\n",
              "  <div id=\"df-bb3d3002-6c54-4053-bb2d-3c78ca5799e4\" class=\"colab-df-container\">\n",
              "    <div>\n",
              "<style scoped>\n",
              "    .dataframe tbody tr th:only-of-type {\n",
              "        vertical-align: middle;\n",
              "    }\n",
              "\n",
              "    .dataframe tbody tr th {\n",
              "        vertical-align: top;\n",
              "    }\n",
              "\n",
              "    .dataframe thead th {\n",
              "        text-align: right;\n",
              "    }\n",
              "</style>\n",
              "<table border=\"1\" class=\"dataframe\">\n",
              "  <thead>\n",
              "    <tr style=\"text-align: right;\">\n",
              "      <th></th>\n",
              "      <th>x1_cor</th>\n",
              "      <th>x2_cor</th>\n",
              "      <th>y</th>\n",
              "    </tr>\n",
              "  </thead>\n",
              "  <tbody>\n",
              "    <tr>\n",
              "      <th>0</th>\n",
              "      <td>-0.785851</td>\n",
              "      <td>0.060051</td>\n",
              "      <td>1</td>\n",
              "    </tr>\n",
              "    <tr>\n",
              "      <th>1</th>\n",
              "      <td>0.352609</td>\n",
              "      <td>-0.648894</td>\n",
              "      <td>1</td>\n",
              "    </tr>\n",
              "    <tr>\n",
              "      <th>2</th>\n",
              "      <td>-0.826999</td>\n",
              "      <td>-0.335800</td>\n",
              "      <td>0</td>\n",
              "    </tr>\n",
              "    <tr>\n",
              "      <th>3</th>\n",
              "      <td>-0.959068</td>\n",
              "      <td>-0.234201</td>\n",
              "      <td>0</td>\n",
              "    </tr>\n",
              "    <tr>\n",
              "      <th>4</th>\n",
              "      <td>-0.908633</td>\n",
              "      <td>-0.644666</td>\n",
              "      <td>0</td>\n",
              "    </tr>\n",
              "  </tbody>\n",
              "</table>\n",
              "</div>\n",
              "    <div class=\"colab-df-buttons\">\n",
              "\n",
              "  <div class=\"colab-df-container\">\n",
              "    <button class=\"colab-df-convert\" onclick=\"convertToInteractive('df-bb3d3002-6c54-4053-bb2d-3c78ca5799e4')\"\n",
              "            title=\"Convert this dataframe to an interactive table.\"\n",
              "            style=\"display:none;\">\n",
              "\n",
              "  <svg xmlns=\"http://www.w3.org/2000/svg\" height=\"24px\" viewBox=\"0 -960 960 960\">\n",
              "    <path d=\"M120-120v-720h720v720H120Zm60-500h600v-160H180v160Zm220 220h160v-160H400v160Zm0 220h160v-160H400v160ZM180-400h160v-160H180v160Zm440 0h160v-160H620v160ZM180-180h160v-160H180v160Zm440 0h160v-160H620v160Z\"/>\n",
              "  </svg>\n",
              "    </button>\n",
              "\n",
              "  <style>\n",
              "    .colab-df-container {\n",
              "      display:flex;\n",
              "      gap: 12px;\n",
              "    }\n",
              "\n",
              "    .colab-df-convert {\n",
              "      background-color: #E8F0FE;\n",
              "      border: none;\n",
              "      border-radius: 50%;\n",
              "      cursor: pointer;\n",
              "      display: none;\n",
              "      fill: #1967D2;\n",
              "      height: 32px;\n",
              "      padding: 0 0 0 0;\n",
              "      width: 32px;\n",
              "    }\n",
              "\n",
              "    .colab-df-convert:hover {\n",
              "      background-color: #E2EBFA;\n",
              "      box-shadow: 0px 1px 2px rgba(60, 64, 67, 0.3), 0px 1px 3px 1px rgba(60, 64, 67, 0.15);\n",
              "      fill: #174EA6;\n",
              "    }\n",
              "\n",
              "    .colab-df-buttons div {\n",
              "      margin-bottom: 4px;\n",
              "    }\n",
              "\n",
              "    [theme=dark] .colab-df-convert {\n",
              "      background-color: #3B4455;\n",
              "      fill: #D2E3FC;\n",
              "    }\n",
              "\n",
              "    [theme=dark] .colab-df-convert:hover {\n",
              "      background-color: #434B5C;\n",
              "      box-shadow: 0px 1px 3px 1px rgba(0, 0, 0, 0.15);\n",
              "      filter: drop-shadow(0px 1px 2px rgba(0, 0, 0, 0.3));\n",
              "      fill: #FFFFFF;\n",
              "    }\n",
              "  </style>\n",
              "\n",
              "    <script>\n",
              "      const buttonEl =\n",
              "        document.querySelector('#df-bb3d3002-6c54-4053-bb2d-3c78ca5799e4 button.colab-df-convert');\n",
              "      buttonEl.style.display =\n",
              "        google.colab.kernel.accessAllowed ? 'block' : 'none';\n",
              "\n",
              "      async function convertToInteractive(key) {\n",
              "        const element = document.querySelector('#df-bb3d3002-6c54-4053-bb2d-3c78ca5799e4');\n",
              "        const dataTable =\n",
              "          await google.colab.kernel.invokeFunction('convertToInteractive',\n",
              "                                                    [key], {});\n",
              "        if (!dataTable) return;\n",
              "\n",
              "        const docLinkHtml = 'Like what you see? Visit the ' +\n",
              "          '<a target=\"_blank\" href=https://colab.research.google.com/notebooks/data_table.ipynb>data table notebook</a>'\n",
              "          + ' to learn more about interactive tables.';\n",
              "        element.innerHTML = '';\n",
              "        dataTable['output_type'] = 'display_data';\n",
              "        await google.colab.output.renderOutput(dataTable, element);\n",
              "        const docLink = document.createElement('div');\n",
              "        docLink.innerHTML = docLinkHtml;\n",
              "        element.appendChild(docLink);\n",
              "      }\n",
              "    </script>\n",
              "  </div>\n",
              "\n",
              "\n",
              "<div id=\"df-71f032a8-2389-437c-87f6-e67587e47077\">\n",
              "  <button class=\"colab-df-quickchart\" onclick=\"quickchart('df-71f032a8-2389-437c-87f6-e67587e47077')\"\n",
              "            title=\"Suggest charts\"\n",
              "            style=\"display:none;\">\n",
              "\n",
              "<svg xmlns=\"http://www.w3.org/2000/svg\" height=\"24px\"viewBox=\"0 0 24 24\"\n",
              "     width=\"24px\">\n",
              "    <g>\n",
              "        <path d=\"M19 3H5c-1.1 0-2 .9-2 2v14c0 1.1.9 2 2 2h14c1.1 0 2-.9 2-2V5c0-1.1-.9-2-2-2zM9 17H7v-7h2v7zm4 0h-2V7h2v10zm4 0h-2v-4h2v4z\"/>\n",
              "    </g>\n",
              "</svg>\n",
              "  </button>\n",
              "\n",
              "<style>\n",
              "  .colab-df-quickchart {\n",
              "      --bg-color: #E8F0FE;\n",
              "      --fill-color: #1967D2;\n",
              "      --hover-bg-color: #E2EBFA;\n",
              "      --hover-fill-color: #174EA6;\n",
              "      --disabled-fill-color: #AAA;\n",
              "      --disabled-bg-color: #DDD;\n",
              "  }\n",
              "\n",
              "  [theme=dark] .colab-df-quickchart {\n",
              "      --bg-color: #3B4455;\n",
              "      --fill-color: #D2E3FC;\n",
              "      --hover-bg-color: #434B5C;\n",
              "      --hover-fill-color: #FFFFFF;\n",
              "      --disabled-bg-color: #3B4455;\n",
              "      --disabled-fill-color: #666;\n",
              "  }\n",
              "\n",
              "  .colab-df-quickchart {\n",
              "    background-color: var(--bg-color);\n",
              "    border: none;\n",
              "    border-radius: 50%;\n",
              "    cursor: pointer;\n",
              "    display: none;\n",
              "    fill: var(--fill-color);\n",
              "    height: 32px;\n",
              "    padding: 0;\n",
              "    width: 32px;\n",
              "  }\n",
              "\n",
              "  .colab-df-quickchart:hover {\n",
              "    background-color: var(--hover-bg-color);\n",
              "    box-shadow: 0 1px 2px rgba(60, 64, 67, 0.3), 0 1px 3px 1px rgba(60, 64, 67, 0.15);\n",
              "    fill: var(--button-hover-fill-color);\n",
              "  }\n",
              "\n",
              "  .colab-df-quickchart-complete:disabled,\n",
              "  .colab-df-quickchart-complete:disabled:hover {\n",
              "    background-color: var(--disabled-bg-color);\n",
              "    fill: var(--disabled-fill-color);\n",
              "    box-shadow: none;\n",
              "  }\n",
              "\n",
              "  .colab-df-spinner {\n",
              "    border: 2px solid var(--fill-color);\n",
              "    border-color: transparent;\n",
              "    border-bottom-color: var(--fill-color);\n",
              "    animation:\n",
              "      spin 1s steps(1) infinite;\n",
              "  }\n",
              "\n",
              "  @keyframes spin {\n",
              "    0% {\n",
              "      border-color: transparent;\n",
              "      border-bottom-color: var(--fill-color);\n",
              "      border-left-color: var(--fill-color);\n",
              "    }\n",
              "    20% {\n",
              "      border-color: transparent;\n",
              "      border-left-color: var(--fill-color);\n",
              "      border-top-color: var(--fill-color);\n",
              "    }\n",
              "    30% {\n",
              "      border-color: transparent;\n",
              "      border-left-color: var(--fill-color);\n",
              "      border-top-color: var(--fill-color);\n",
              "      border-right-color: var(--fill-color);\n",
              "    }\n",
              "    40% {\n",
              "      border-color: transparent;\n",
              "      border-right-color: var(--fill-color);\n",
              "      border-top-color: var(--fill-color);\n",
              "    }\n",
              "    60% {\n",
              "      border-color: transparent;\n",
              "      border-right-color: var(--fill-color);\n",
              "    }\n",
              "    80% {\n",
              "      border-color: transparent;\n",
              "      border-right-color: var(--fill-color);\n",
              "      border-bottom-color: var(--fill-color);\n",
              "    }\n",
              "    90% {\n",
              "      border-color: transparent;\n",
              "      border-bottom-color: var(--fill-color);\n",
              "    }\n",
              "  }\n",
              "</style>\n",
              "\n",
              "  <script>\n",
              "    async function quickchart(key) {\n",
              "      const quickchartButtonEl =\n",
              "        document.querySelector('#' + key + ' button');\n",
              "      quickchartButtonEl.disabled = true;  // To prevent multiple clicks.\n",
              "      quickchartButtonEl.classList.add('colab-df-spinner');\n",
              "      try {\n",
              "        const charts = await google.colab.kernel.invokeFunction(\n",
              "            'suggestCharts', [key], {});\n",
              "      } catch (error) {\n",
              "        console.error('Error during call to suggestCharts:', error);\n",
              "      }\n",
              "      quickchartButtonEl.classList.remove('colab-df-spinner');\n",
              "      quickchartButtonEl.classList.add('colab-df-quickchart-complete');\n",
              "    }\n",
              "    (() => {\n",
              "      let quickchartButtonEl =\n",
              "        document.querySelector('#df-71f032a8-2389-437c-87f6-e67587e47077 button');\n",
              "      quickchartButtonEl.style.display =\n",
              "        google.colab.kernel.accessAllowed ? 'block' : 'none';\n",
              "    })();\n",
              "  </script>\n",
              "</div>\n",
              "\n",
              "    </div>\n",
              "  </div>\n"
            ],
            "application/vnd.google.colaboratory.intrinsic+json": {
              "type": "dataframe",
              "variable_name": "circles",
              "summary": "{\n  \"name\": \"circles\",\n  \"rows\": 1500,\n  \"fields\": [\n    {\n      \"column\": \"x1_cor\",\n      \"properties\": {\n        \"dtype\": \"number\",\n        \"std\": 0.6464504407598423,\n        \"min\": -1.1603719447124876,\n        \"max\": 1.1572438746258675,\n        \"num_unique_values\": 1500,\n        \"samples\": [\n          -0.6649690598865082,\n          0.6903000830644741,\n          -0.8027813433006976\n        ],\n        \"semantic_type\": \"\",\n        \"description\": \"\"\n      }\n    },\n    {\n      \"column\": \"x2_cor\",\n      \"properties\": {\n        \"dtype\": \"number\",\n        \"std\": 0.6430247945382588,\n        \"min\": -1.1393080456526035,\n        \"max\": 1.2039243658529253,\n        \"num_unique_values\": 1500,\n        \"samples\": [\n          0.7653366009282814,\n          -0.885702125346342,\n          0.6355714959257655\n        ],\n        \"semantic_type\": \"\",\n        \"description\": \"\"\n      }\n    },\n    {\n      \"column\": \"y\",\n      \"properties\": {\n        \"dtype\": \"number\",\n        \"std\": 0,\n        \"min\": 0,\n        \"max\": 1,\n        \"num_unique_values\": 2,\n        \"samples\": [\n          0,\n          1\n        ],\n        \"semantic_type\": \"\",\n        \"description\": \"\"\n      }\n    }\n  ]\n}"
            }
          },
          "metadata": {},
          "execution_count": 4
        }
      ]
    },
    {
      "cell_type": "code",
      "source": [
        "circles.y.value_counts()"
      ],
      "metadata": {
        "colab": {
          "base_uri": "https://localhost:8080/",
          "height": 178
        },
        "id": "T_Lc19mC5Kky",
        "outputId": "e8528975-2b05-43c4-f0d7-23bc81bb9ef1"
      },
      "execution_count": 5,
      "outputs": [
        {
          "output_type": "execute_result",
          "data": {
            "text/plain": [
              "y\n",
              "1    750\n",
              "0    750\n",
              "Name: count, dtype: int64"
            ],
            "text/html": [
              "<div>\n",
              "<style scoped>\n",
              "    .dataframe tbody tr th:only-of-type {\n",
              "        vertical-align: middle;\n",
              "    }\n",
              "\n",
              "    .dataframe tbody tr th {\n",
              "        vertical-align: top;\n",
              "    }\n",
              "\n",
              "    .dataframe thead th {\n",
              "        text-align: right;\n",
              "    }\n",
              "</style>\n",
              "<table border=\"1\" class=\"dataframe\">\n",
              "  <thead>\n",
              "    <tr style=\"text-align: right;\">\n",
              "      <th></th>\n",
              "      <th>count</th>\n",
              "    </tr>\n",
              "    <tr>\n",
              "      <th>y</th>\n",
              "      <th></th>\n",
              "    </tr>\n",
              "  </thead>\n",
              "  <tbody>\n",
              "    <tr>\n",
              "      <th>1</th>\n",
              "      <td>750</td>\n",
              "    </tr>\n",
              "    <tr>\n",
              "      <th>0</th>\n",
              "      <td>750</td>\n",
              "    </tr>\n",
              "  </tbody>\n",
              "</table>\n",
              "</div><br><label><b>dtype:</b> int64</label>"
            ]
          },
          "metadata": {},
          "execution_count": 5
        }
      ]
    },
    {
      "cell_type": "code",
      "source": [
        "plt.scatter(\n",
        "    x = circles.x1_cor,\n",
        "    y = circles.x2_cor,\n",
        "    c = circles.y,\n",
        "    cmap=plt.cm.RdYlBu\n",
        ")"
      ],
      "metadata": {
        "colab": {
          "base_uri": "https://localhost:8080/",
          "height": 447
        },
        "id": "10g8_Lds5fZa",
        "outputId": "45061598-40e8-4f44-baef-507c90d0126d"
      },
      "execution_count": 6,
      "outputs": [
        {
          "output_type": "execute_result",
          "data": {
            "text/plain": [
              "<matplotlib.collections.PathCollection at 0x7d927b6a4310>"
            ]
          },
          "metadata": {},
          "execution_count": 6
        },
        {
          "output_type": "display_data",
          "data": {
            "text/plain": [
              "<Figure size 640x480 with 1 Axes>"
            ],
            "image/png": "[encoded data removed]"
          },
          "metadata": {}
        }
      ]
    },
    {
      "cell_type": "code",
      "source": [
        "X.shape, y.shape"
      ],
      "metadata": {
        "colab": {
          "base_uri": "https://localhost:8080/"
        },
        "id": "kATjmIOf5y1r",
        "outputId": "86267a7a-d00d-430e-e8a6-738673a75ccd"
      },
      "execution_count": 7,
      "outputs": [
        {
          "output_type": "execute_result",
          "data": {
            "text/plain": [
              "((1500, 2), (1500,))"
            ]
          },
          "metadata": {},
          "execution_count": 7
        }
      ]
    },
    {
      "cell_type": "code",
      "source": [
        "X = torch.from_numpy(X).type(torch.float)\n",
        "y = torch.from_numpy(y).type(torch.float)"
      ],
      "metadata": {
        "id": "fPBdCSrG6D93"
      },
      "execution_count": 8,
      "outputs": []
    },
    {
      "cell_type": "code",
      "source": [
        "from sklearn.model_selection import train_test_split\n",
        "\n",
        "X_train, X_test, y_train, y_test = train_test_split(X, y, test_size=0.2, random_state=42)"
      ],
      "metadata": {
        "id": "-M6oYjgw7mZg"
      },
      "execution_count": 9,
      "outputs": []
    },
    {
      "cell_type": "code",
      "source": [
        "X_train.shape, y_train.shape"
      ],
      "metadata": {
        "colab": {
          "base_uri": "https://localhost:8080/"
        },
        "id": "2HHT65pW7vxM",
        "outputId": "e9da8f7c-6945-41dc-dee2-696080ae5e95"
      },
      "execution_count": 10,
      "outputs": [
        {
          "output_type": "execute_result",
          "data": {
            "text/plain": [
              "(torch.Size([1200, 2]), torch.Size([1200]))"
            ]
          },
          "metadata": {},
          "execution_count": 10
        }
      ]
    },
    {
      "cell_type": "code",
      "source": [
        "device = \"cuda\" if torch.cuda.is_available() else \"cpu\"\n",
        "device"
      ],
      "metadata": {
        "colab": {
          "base_uri": "https://localhost:8080/",
          "height": 36
        },
        "id": "OtirOXAN7y1l",
        "outputId": "601a32a3-01a9-4e1b-99ff-722bf9f6f178"
      },
      "execution_count": 11,
      "outputs": [
        {
          "output_type": "execute_result",
          "data": {
            "text/plain": [
              "'cuda'"
            ],
            "application/vnd.google.colaboratory.intrinsic+json": {
              "type": "string"
            }
          },
          "metadata": {},
          "execution_count": 11
        }
      ]
    },
    {
      "cell_type": "code",
      "source": [
        "class CircleModelV0(nn.Module):\n",
        "  def __init__(self):\n",
        "    super().__init__()\n",
        "    self.classifier = nn.Sequential(\n",
        "        nn.Linear(in_features=2, out_features=16),\n",
        "        nn.ReLU(),\n",
        "        nn.Linear(in_features=16, out_features= 32),\n",
        "        nn.ReLU(),\n",
        "        nn.Linear(in_features=32, out_features=24),\n",
        "        nn.ReLU(),\n",
        "        nn.Linear(in_features=24, out_features=8),\n",
        "        nn.ReLU(),\n",
        "        nn.Linear(in_features=8, out_features=1),\n",
        "        nn.Sigmoid()\n",
        "    )\n",
        "\n",
        "  def forward(self, x):\n",
        "    return self.classifier(x)"
      ],
      "metadata": {
        "id": "KomApRXo8DqF"
      },
      "execution_count": 53,
      "outputs": []
    },
    {
      "cell_type": "code",
      "source": [
        "model = CircleModelV0().to(device)\n",
        "model"
      ],
      "metadata": {
        "colab": {
          "base_uri": "https://localhost:8080/"
        },
        "id": "qMfuJDJRAf8s",
        "outputId": "f2b713d3-994b-4cd3-a0df-c8464fb7f029"
      },
      "execution_count": 54,
      "outputs": [
        {
          "output_type": "execute_result",
          "data": {
            "text/plain": [
              "CircleModelV0(\n",
              "  (classifier): Sequential(\n",
              "    (0): Linear(in_features=2, out_features=16, bias=True)\n",
              "    (1): ReLU()\n",
              "    (2): Linear(in_features=16, out_features=32, bias=True)\n",
              "    (3): ReLU()\n",
              "    (4): Linear(in_features=32, out_features=24, bias=True)\n",
              "    (5): ReLU()\n",
              "    (6): Linear(in_features=24, out_features=8, bias=True)\n",
              "    (7): ReLU()\n",
              "    (8): Linear(in_features=8, out_features=1, bias=True)\n",
              "    (9): Sigmoid()\n",
              "  )\n",
              ")"
            ]
          },
          "metadata": {},
          "execution_count": 54
        }
      ]
    },
    {
      "cell_type": "code",
      "source": [
        "from torchsummary import summary\n",
        "summary(model, input_size=(2,))"
      ],
      "metadata": {
        "colab": {
          "base_uri": "https://localhost:8080/"
        },
        "id": "PCpyGT_9AkF7",
        "outputId": "76dc7efd-e2e9-4a5b-8043-4e068e7d1286"
      },
      "execution_count": 55,
      "outputs": [
        {
          "output_type": "stream",
          "name": "stdout",
          "text": [
            "----------------------------------------------------------------\n",
            "        Layer (type)               Output Shape         Param #\n",
            "================================================================\n",
            "            Linear-1                   [-1, 16]              48\n",
            "              ReLU-2                   [-1, 16]               0\n",
            "            Linear-3                   [-1, 32]             544\n",
            "              ReLU-4                   [-1, 32]               0\n",
            "            Linear-5                   [-1, 24]             792\n",
            "              ReLU-6                   [-1, 24]               0\n",
            "            Linear-7                    [-1, 8]             200\n",
            "              ReLU-8                    [-1, 8]               0\n",
            "            Linear-9                    [-1, 1]               9\n",
            "          Sigmoid-10                    [-1, 1]               0\n",
            "================================================================\n",
            "Total params: 1,593\n",
            "Trainable params: 1,593\n",
            "Non-trainable params: 0\n",
            "----------------------------------------------------------------\n",
            "Input size (MB): 0.00\n",
            "Forward/backward pass size (MB): 0.00\n",
            "Params size (MB): 0.01\n",
            "Estimated Total Size (MB): 0.01\n",
            "----------------------------------------------------------------\n"
          ]
        }
      ]
    },
    {
      "cell_type": "code",
      "source": [
        "criterion = nn.BCELoss()\n",
        "optimizer = optim.Adam(model.parameters(), lr=0.01)"
      ],
      "metadata": {
        "id": "FePyuqMMA1LV"
      },
      "execution_count": 56,
      "outputs": []
    },
    {
      "cell_type": "code",
      "source": [
        "# def accuracy_fn(y_true, y_pred):\n",
        "#     y_pred = torch.round(y_pred).squeeze()\n",
        "#     y_true = y_true.squeeze()\n",
        "#     correct = (y_pred == y_true).sum().item()\n",
        "#     total = y_true.numel()\n",
        "#     accuracy = (correct / total) * 100\n",
        "#     return accuracy"
      ],
      "metadata": {
        "id": "aAk-HyhfCLOu"
      },
      "execution_count": 48,
      "outputs": []
    },
    {
      "cell_type": "code",
      "source": [
        "# y_logits = model(X_test.to(device))[:100]\n",
        "# y_logits"
      ],
      "metadata": {
        "id": "GoZ11wW7C7LE"
      },
      "execution_count": 36,
      "outputs": []
    },
    {
      "cell_type": "code",
      "source": [
        "# print(y_logits.shape, y_test[:100].shape)\n"
      ],
      "metadata": {
        "id": "n0VVoYalQ-fX"
      },
      "execution_count": 37,
      "outputs": []
    },
    {
      "cell_type": "code",
      "source": [
        "# accuray_log = accuracy_fn(y_test[:100].to(device), y_logits.to(device))\n",
        "# accuray_log"
      ],
      "metadata": {
        "id": "m_l7O36gPhII"
      },
      "execution_count": 38,
      "outputs": []
    },
    {
      "cell_type": "code",
      "source": [
        "# !pip install torchmetrics"
      ],
      "metadata": {
        "colab": {
          "base_uri": "https://localhost:8080/"
        },
        "id": "Azsk-IwqT4G3",
        "outputId": "a9575da9-c90d-4d17-8d46-99cae2b9124a"
      },
      "execution_count": 41,
      "outputs": [
        {
          "output_type": "stream",
          "name": "stdout",
          "text": [
            "Collecting torchmetrics\n",
            "  Downloading torchmetrics-1.7.1-py3-none-any.whl.metadata (21 kB)\n",
            "Requirement already satisfied: numpy>1.20.0 in /usr/local/lib/python3.11/dist-packages (from torchmetrics) (2.0.2)\n",
            "Requirement already satisfied: packaging>17.1 in /usr/local/lib/python3.11/dist-packages (from torchmetrics) (24.2)\n",
            "Requirement already satisfied: torch>=2.0.0 in /usr/local/lib/python3.11/dist-packages (from torchmetrics) (2.6.0+cu124)\n",
            "Collecting lightning-utilities>=0.8.0 (from torchmetrics)\n",
            "  Downloading lightning_utilities-0.14.3-py3-none-any.whl.metadata (5.6 kB)\n",
            "Requirement already satisfied: setuptools in /usr/local/lib/python3.11/dist-packages (from lightning-utilities>=0.8.0->torchmetrics) (75.2.0)\n",
            "Requirement already satisfied: typing_extensions in /usr/local/lib/python3.11/dist-packages (from lightning-utilities>=0.8.0->torchmetrics) (4.13.1)\n",
            "Requirement already satisfied: filelock in /usr/local/lib/python3.11/dist-packages (from torch>=2.0.0->torchmetrics) (3.18.0)\n",
            "Requirement already satisfied: networkx in /usr/local/lib/python3.11/dist-packages (from torch>=2.0.0->torchmetrics) (3.4.2)\n",
            "Requirement already satisfied: jinja2 in /usr/local/lib/python3.11/dist-packages (from torch>=2.0.0->torchmetrics) (3.1.6)\n",
            "Requirement already satisfied: fsspec in /usr/local/lib/python3.11/dist-packages (from torch>=2.0.0->torchmetrics) (2025.3.2)\n",
            "Collecting nvidia-cuda-nvrtc-cu12==12.4.127 (from torch>=2.0.0->torchmetrics)\n",
            "  Downloading nvidia_cuda_nvrtc_cu12-12.4.127-py3-none-manylinux2014_x86_64.whl.metadata (1.5 kB)\n",
            "Collecting nvidia-cuda-runtime-cu12==12.4.127 (from torch>=2.0.0->torchmetrics)\n",
            "  Downloading nvidia_cuda_runtime_cu12-12.4.127-py3-none-manylinux2014_x86_64.whl.metadata (1.5 kB)\n",
            "Collecting nvidia-cuda-cupti-cu12==12.4.127 (from torch>=2.0.0->torchmetrics)\n",
            "  Downloading nvidia_cuda_cupti_cu12-12.4.127-py3-none-manylinux2014_x86_64.whl.metadata (1.6 kB)\n",
            "Collecting nvidia-cudnn-cu12==9.1.0.70 (from torch>=2.0.0->torchmetrics)\n",
            "  Downloading nvidia_cudnn_cu12-9.1.0.70-py3-none-manylinux2014_x86_64.whl.metadata (1.6 kB)\n",
            "Collecting nvidia-cublas-cu12==12.4.5.8 (from torch>=2.0.0->torchmetrics)\n",
            "  Downloading nvidia_cublas_cu12-12.4.5.8-py3-none-manylinux2014_x86_64.whl.metadata (1.5 kB)\n",
            "Collecting nvidia-cufft-cu12==11.2.1.3 (from torch>=2.0.0->torchmetrics)\n",
            "  Downloading nvidia_cufft_cu12-11.2.1.3-py3-none-manylinux2014_x86_64.whl.metadata (1.5 kB)\n",
            "Collecting nvidia-curand-cu12==10.3.5.147 (from torch>=2.0.0->torchmetrics)\n",
            "  Downloading nvidia_curand_cu12-10.3.5.147-py3-none-manylinux2014_x86_64.whl.metadata (1.5 kB)\n",
            "Collecting nvidia-cusolver-cu12==11.6.1.9 (from torch>=2.0.0->torchmetrics)\n",
            "  Downloading nvidia_cusolver_cu12-11.6.1.9-py3-none-manylinux2014_x86_64.whl.metadata (1.6 kB)\n",
            "Collecting nvidia-cusparse-cu12==12.3.1.170 (from torch>=2.0.0->torchmetrics)\n",
            "  Downloading nvidia_cusparse_cu12-12.3.1.170-py3-none-manylinux2014_x86_64.whl.metadata (1.6 kB)\n",
            "Requirement already satisfied: nvidia-cusparselt-cu12==0.6.2 in /usr/local/lib/python3.11/dist-packages (from torch>=2.0.0->torchmetrics) (0.6.2)\n",
            "Requirement already satisfied: nvidia-nccl-cu12==2.21.5 in /usr/local/lib/python3.11/dist-packages (from torch>=2.0.0->torchmetrics) (2.21.5)\n",
            "Requirement already satisfied: nvidia-nvtx-cu12==12.4.127 in /usr/local/lib/python3.11/dist-packages (from torch>=2.0.0->torchmetrics) (12.4.127)\n",
            "Collecting nvidia-nvjitlink-cu12==12.4.127 (from torch>=2.0.0->torchmetrics)\n",
            "  Downloading nvidia_nvjitlink_cu12-12.4.127-py3-none-manylinux2014_x86_64.whl.metadata (1.5 kB)\n",
            "Requirement already satisfied: triton==3.2.0 in /usr/local/lib/python3.11/dist-packages (from torch>=2.0.0->torchmetrics) (3.2.0)\n",
            "Requirement already satisfied: sympy==1.13.1 in /usr/local/lib/python3.11/dist-packages (from torch>=2.0.0->torchmetrics) (1.13.1)\n",
            "Requirement already satisfied: mpmath<1.4,>=1.1.0 in /usr/local/lib/python3.11/dist-packages (from sympy==1.13.1->torch>=2.0.0->torchmetrics) (1.3.0)\n",
            "Requirement already satisfied: MarkupSafe>=2.0 in /usr/local/lib/python3.11/dist-packages (from jinja2->torch>=2.0.0->torchmetrics) (3.0.2)\n",
            "Downloading torchmetrics-1.7.1-py3-none-any.whl (961 kB)\n",
            "\u001b[2K   \u001b[90m━━━━━━━━━━━━━━━━━━━━━━━━━━━━━━━━━━━━━━━━\u001b[0m \u001b[32m961.5/961.5 kB\u001b[0m \u001b[31m24.4 MB/s\u001b[0m eta \u001b[36m0:00:00\u001b[0m\n",
            "\u001b[?25hDownloading lightning_utilities-0.14.3-py3-none-any.whl (28 kB)\n",
            "Downloading nvidia_cublas_cu12-12.4.5.8-py3-none-manylinux2014_x86_64.whl (363.4 MB)\n",
            "\u001b[2K   \u001b[90m━━━━━━━━━━━━━━━━━━━━━━━━━━━━━━━━━━━━━━━━\u001b[0m \u001b[32m363.4/363.4 MB\u001b[0m \u001b[31m4.4 MB/s\u001b[0m eta \u001b[36m0:00:00\u001b[0m\n",
            "\u001b[?25hDownloading nvidia_cuda_cupti_cu12-12.4.127-py3-none-manylinux2014_x86_64.whl (13.8 MB)\n",
            "\u001b[2K   \u001b[90m━━━━━━━━━━━━━━━━━━━━━━━━━━━━━━━━━━━━━━━━\u001b[0m \u001b[32m13.8/13.8 MB\u001b[0m \u001b[31m65.0 MB/s\u001b[0m eta \u001b[36m0:00:00\u001b[0m\n",
            "\u001b[?25hDownloading nvidia_cuda_nvrtc_cu12-12.4.127-py3-none-manylinux2014_x86_64.whl (24.6 MB)\n",
            "\u001b[2K   \u001b[90m━━━━━━━━━━━━━━━━━━━━━━━━━━━━━━━━━━━━━━━━\u001b[0m \u001b[32m24.6/24.6 MB\u001b[0m \u001b[31m35.5 MB/s\u001b[0m eta \u001b[36m0:00:00\u001b[0m\n",
            "\u001b[?25hDownloading nvidia_cuda_runtime_cu12-12.4.127-py3-none-manylinux2014_x86_64.whl (883 kB)\n",
            "\u001b[2K   \u001b[90m━━━━━━━━━━━━━━━━━━━━━━━━━━━━━━━━━━━━━━━━\u001b[0m \u001b[32m883.7/883.7 kB\u001b[0m \u001b[31m46.3 MB/s\u001b[0m eta \u001b[36m0:00:00\u001b[0m\n",
            "\u001b[?25hDownloading nvidia_cudnn_cu12-9.1.0.70-py3-none-manylinux2014_x86_64.whl (664.8 MB)\n",
            "\u001b[2K   \u001b[90m━━━━━━━━━━━━━━━━━━━━━━━━━━━━━━━━━━━━━━━━\u001b[0m \u001b[32m664.8/664.8 MB\u001b[0m \u001b[31m3.0 MB/s\u001b[0m eta \u001b[36m0:00:00\u001b[0m\n",
            "\u001b[?25hDownloading nvidia_cufft_cu12-11.2.1.3-py3-none-manylinux2014_x86_64.whl (211.5 MB)\n",
            "\u001b[2K   \u001b[90m━━━━━━━━━━━━━━━━━━━━━━━━━━━━━━━━━━━━━━━━\u001b[0m \u001b[32m211.5/211.5 MB\u001b[0m \u001b[31m6.8 MB/s\u001b[0m eta \u001b[36m0:00:00\u001b[0m\n",
            "\u001b[?25hDownloading nvidia_curand_cu12-10.3.5.147-py3-none-manylinux2014_x86_64.whl (56.3 MB)\n",
            "\u001b[2K   \u001b[90m━━━━━━━━━━━━━━━━━━━━━━━━━━━━━━━━━━━━━━━━\u001b[0m \u001b[32m56.3/56.3 MB\u001b[0m \u001b[31m12.7 MB/s\u001b[0m eta \u001b[36m0:00:00\u001b[0m\n",
            "\u001b[?25hDownloading nvidia_cusolver_cu12-11.6.1.9-py3-none-manylinux2014_x86_64.whl (127.9 MB)\n",
            "\u001b[2K   \u001b[90m━━━━━━━━━━━━━━━━━━━━━━━━━━━━━━━━━━━━━━━━\u001b[0m \u001b[32m127.9/127.9 MB\u001b[0m \u001b[31m5.6 MB/s\u001b[0m eta \u001b[36m0:00:00\u001b[0m\n",
            "\u001b[?25hDownloading nvidia_cusparse_cu12-12.3.1.170-py3-none-manylinux2014_x86_64.whl (207.5 MB)\n",
            "\u001b[2K   \u001b[90m━━━━━━━━━━━━━━━━━━━━━━━━━━━━━━━━━━━━━━━━\u001b[0m \u001b[32m207.5/207.5 MB\u001b[0m \u001b[31m6.1 MB/s\u001b[0m eta \u001b[36m0:00:00\u001b[0m\n",
            "\u001b[?25hDownloading nvidia_nvjitlink_cu12-12.4.127-py3-none-manylinux2014_x86_64.whl (21.1 MB)\n",
            "\u001b[2K   \u001b[90m━━━━━━━━━━━━━━━━━━━━━━━━━━━━━━━━━━━━━━━━\u001b[0m \u001b[32m21.1/21.1 MB\u001b[0m \u001b[31m81.5 MB/s\u001b[0m eta \u001b[36m0:00:00\u001b[0m\n",
            "\u001b[?25hInstalling collected packages: nvidia-nvjitlink-cu12, nvidia-curand-cu12, nvidia-cufft-cu12, nvidia-cuda-runtime-cu12, nvidia-cuda-nvrtc-cu12, nvidia-cuda-cupti-cu12, nvidia-cublas-cu12, lightning-utilities, nvidia-cusparse-cu12, nvidia-cudnn-cu12, nvidia-cusolver-cu12, torchmetrics\n",
            "  Attempting uninstall: nvidia-nvjitlink-cu12\n",
            "    Found existing installation: nvidia-nvjitlink-cu12 12.5.82\n",
            "    Uninstalling nvidia-nvjitlink-cu12-12.5.82:\n",
            "      Successfully uninstalled nvidia-nvjitlink-cu12-12.5.82\n",
            "  Attempting uninstall: nvidia-curand-cu12\n",
            "    Found existing installation: nvidia-curand-cu12 10.3.6.82\n",
            "    Uninstalling nvidia-curand-cu12-10.3.6.82:\n",
            "      Successfully uninstalled nvidia-curand-cu12-10.3.6.82\n",
            "  Attempting uninstall: nvidia-cufft-cu12\n",
            "    Found existing installation: nvidia-cufft-cu12 11.2.3.61\n",
            "    Uninstalling nvidia-cufft-cu12-11.2.3.61:\n",
            "      Successfully uninstalled nvidia-cufft-cu12-11.2.3.61\n",
            "  Attempting uninstall: nvidia-cuda-runtime-cu12\n",
            "    Found existing installation: nvidia-cuda-runtime-cu12 12.5.82\n",
            "    Uninstalling nvidia-cuda-runtime-cu12-12.5.82:\n",
            "      Successfully uninstalled nvidia-cuda-runtime-cu12-12.5.82\n",
            "  Attempting uninstall: nvidia-cuda-nvrtc-cu12\n",
            "    Found existing installation: nvidia-cuda-nvrtc-cu12 12.5.82\n",
            "    Uninstalling nvidia-cuda-nvrtc-cu12-12.5.82:\n",
            "      Successfully uninstalled nvidia-cuda-nvrtc-cu12-12.5.82\n",
            "  Attempting uninstall: nvidia-cuda-cupti-cu12\n",
            "    Found existing installation: nvidia-cuda-cupti-cu12 12.5.82\n",
            "    Uninstalling nvidia-cuda-cupti-cu12-12.5.82:\n",
            "      Successfully uninstalled nvidia-cuda-cupti-cu12-12.5.82\n",
            "  Attempting uninstall: nvidia-cublas-cu12\n",
            "    Found existing installation: nvidia-cublas-cu12 12.5.3.2\n",
            "    Uninstalling nvidia-cublas-cu12-12.5.3.2:\n",
            "      Successfully uninstalled nvidia-cublas-cu12-12.5.3.2\n",
            "  Attempting uninstall: nvidia-cusparse-cu12\n",
            "    Found existing installation: nvidia-cusparse-cu12 12.5.1.3\n",
            "    Uninstalling nvidia-cusparse-cu12-12.5.1.3:\n",
            "      Successfully uninstalled nvidia-cusparse-cu12-12.5.1.3\n",
            "  Attempting uninstall: nvidia-cudnn-cu12\n",
            "    Found existing installation: nvidia-cudnn-cu12 9.3.0.75\n",
            "    Uninstalling nvidia-cudnn-cu12-9.3.0.75:\n",
            "      Successfully uninstalled nvidia-cudnn-cu12-9.3.0.75\n",
            "  Attempting uninstall: nvidia-cusolver-cu12\n",
            "    Found existing installation: nvidia-cusolver-cu12 11.6.3.83\n",
            "    Uninstalling nvidia-cusolver-cu12-11.6.3.83:\n",
            "      Successfully uninstalled nvidia-cusolver-cu12-11.6.3.83\n",
            "Successfully installed lightning-utilities-0.14.3 nvidia-cublas-cu12-12.4.5.8 nvidia-cuda-cupti-cu12-12.4.127 nvidia-cuda-nvrtc-cu12-12.4.127 nvidia-cuda-runtime-cu12-12.4.127 nvidia-cudnn-cu12-9.1.0.70 nvidia-cufft-cu12-11.2.1.3 nvidia-curand-cu12-10.3.5.147 nvidia-cusolver-cu12-11.6.1.9 nvidia-cusparse-cu12-12.3.1.170 nvidia-nvjitlink-cu12-12.4.127 torchmetrics-1.7.1\n"
          ]
        }
      ]
    },
    {
      "cell_type": "code",
      "source": [
        "from torchmetrics.classification import BinaryAccuracy\n",
        "metric = BinaryAccuracy().to(device)"
      ],
      "metadata": {
        "id": "v26K38RVUOTS"
      },
      "execution_count": 57,
      "outputs": []
    },
    {
      "cell_type": "code",
      "source": [
        "epochs = 1000\n",
        "X_train, y_train = X_train.to(device), y_train.to(device)\n",
        "X_test, y_test = X_test.to(device), y_test.to(device)\n",
        "\n",
        "for epoch in range(epochs):\n",
        "  model.train() # train mode\n",
        "  y_pred = model(X_train).squeeze()  # forward func\n",
        "\n",
        "  loss = criterion(y_pred, y_train) # loss\n",
        "  acc = metric(y_pred, y_train) * 100 # train accuracy\n",
        "\n",
        "  optimizer.zero_grad() # zero grad\n",
        "  loss.backward() # backprop on loss\n",
        "\n",
        "  optimizer.step() # upgrade parameters\n",
        "\n",
        "  model.eval() # evaluation mode\n",
        "\n",
        "  with torch.no_grad(): # no grad calculation\n",
        "    test_pred = model(X_test).squeeze() # test forward\n",
        "    test_loss = criterion(test_pred, y_test) # test loss\n",
        "    test_acc = metric(test_pred, y_test) * 100 # test accuracy\n",
        "\n",
        "  metric.reset()\n",
        "  if epoch % 10 == 0:\n",
        "    print(f\"Epoch: {epoch+10} | Loss: {loss:.5f} | Acc: {acc:.2f}% | Test Loss: {test_loss:.5f} | Test Acc: {test_acc:.2f}%\")"
      ],
      "metadata": {
        "colab": {
          "base_uri": "https://localhost:8080/"
        },
        "id": "DmLwuQdmDlNu",
        "outputId": "de42cbc0-a3de-4b01-aec9-7d03744c12f2"
      },
      "execution_count": 59,
      "outputs": [
        {
          "output_type": "stream",
          "name": "stdout",
          "text": [
            "Epoch: 10 | Loss: 0.19661 | Acc: 90.83% | Test Loss: 0.21314 | Test Acc: 91.00%\n",
            "Epoch: 20 | Loss: 0.19282 | Acc: 92.08% | Test Loss: 0.20662 | Test Acc: 91.33%\n",
            "Epoch: 30 | Loss: 0.19123 | Acc: 92.00% | Test Loss: 0.20743 | Test Acc: 91.33%\n",
            "Epoch: 40 | Loss: 0.19102 | Acc: 91.50% | Test Loss: 0.20695 | Test Acc: 91.00%\n",
            "Epoch: 50 | Loss: 0.18981 | Acc: 91.58% | Test Loss: 0.20561 | Test Acc: 91.33%\n",
            "Epoch: 60 | Loss: 0.19793 | Acc: 92.00% | Test Loss: 0.21132 | Test Acc: 91.33%\n",
            "Epoch: 70 | Loss: 0.19211 | Acc: 92.17% | Test Loss: 0.20866 | Test Acc: 91.33%\n",
            "Epoch: 80 | Loss: 0.18946 | Acc: 91.67% | Test Loss: 0.20617 | Test Acc: 91.00%\n",
            "Epoch: 90 | Loss: 0.18911 | Acc: 91.75% | Test Loss: 0.20578 | Test Acc: 91.33%\n",
            "Epoch: 100 | Loss: 0.19120 | Acc: 91.58% | Test Loss: 0.20754 | Test Acc: 91.33%\n",
            "Epoch: 110 | Loss: 0.19203 | Acc: 92.17% | Test Loss: 0.21090 | Test Acc: 91.00%\n",
            "Epoch: 120 | Loss: 0.19146 | Acc: 91.50% | Test Loss: 0.21023 | Test Acc: 91.33%\n",
            "Epoch: 130 | Loss: 0.18916 | Acc: 92.00% | Test Loss: 0.20999 | Test Acc: 91.00%\n",
            "Epoch: 140 | Loss: 0.18846 | Acc: 91.92% | Test Loss: 0.20854 | Test Acc: 91.00%\n",
            "Epoch: 150 | Loss: 0.18956 | Acc: 91.75% | Test Loss: 0.20926 | Test Acc: 91.00%\n",
            "Epoch: 160 | Loss: 0.18984 | Acc: 92.17% | Test Loss: 0.21242 | Test Acc: 91.00%\n",
            "Epoch: 170 | Loss: 0.18832 | Acc: 91.58% | Test Loss: 0.21034 | Test Acc: 91.00%\n",
            "Epoch: 180 | Loss: 0.19071 | Acc: 92.25% | Test Loss: 0.21369 | Test Acc: 90.67%\n",
            "Epoch: 190 | Loss: 0.18962 | Acc: 91.83% | Test Loss: 0.21162 | Test Acc: 90.33%\n",
            "Epoch: 200 | Loss: 0.18924 | Acc: 92.17% | Test Loss: 0.21413 | Test Acc: 91.00%\n",
            "Epoch: 210 | Loss: 0.18761 | Acc: 91.83% | Test Loss: 0.21117 | Test Acc: 90.67%\n",
            "Epoch: 220 | Loss: 0.19418 | Acc: 90.92% | Test Loss: 0.21606 | Test Acc: 90.67%\n",
            "Epoch: 230 | Loss: 0.19033 | Acc: 92.08% | Test Loss: 0.21381 | Test Acc: 90.67%\n",
            "Epoch: 240 | Loss: 0.18969 | Acc: 91.75% | Test Loss: 0.21307 | Test Acc: 90.33%\n",
            "Epoch: 250 | Loss: 0.18994 | Acc: 92.17% | Test Loss: 0.21595 | Test Acc: 90.67%\n",
            "Epoch: 260 | Loss: 0.18831 | Acc: 91.67% | Test Loss: 0.21423 | Test Acc: 90.33%\n",
            "Epoch: 270 | Loss: 0.18756 | Acc: 92.00% | Test Loss: 0.21417 | Test Acc: 90.67%\n",
            "Epoch: 280 | Loss: 0.18712 | Acc: 91.83% | Test Loss: 0.21253 | Test Acc: 90.67%\n",
            "Epoch: 290 | Loss: 0.18808 | Acc: 91.83% | Test Loss: 0.21252 | Test Acc: 91.00%\n",
            "Epoch: 300 | Loss: 0.18994 | Acc: 92.25% | Test Loss: 0.21745 | Test Acc: 90.67%\n",
            "Epoch: 310 | Loss: 0.19055 | Acc: 91.58% | Test Loss: 0.21893 | Test Acc: 90.67%\n",
            "Epoch: 320 | Loss: 0.19078 | Acc: 92.17% | Test Loss: 0.21709 | Test Acc: 90.67%\n",
            "Epoch: 330 | Loss: 0.18723 | Acc: 91.92% | Test Loss: 0.21315 | Test Acc: 90.67%\n",
            "Epoch: 340 | Loss: 0.18660 | Acc: 91.83% | Test Loss: 0.21271 | Test Acc: 90.67%\n",
            "Epoch: 350 | Loss: 0.18848 | Acc: 91.75% | Test Loss: 0.21461 | Test Acc: 91.00%\n",
            "Epoch: 360 | Loss: 0.19247 | Acc: 91.75% | Test Loss: 0.21970 | Test Acc: 90.67%\n",
            "Epoch: 370 | Loss: 0.18715 | Acc: 91.92% | Test Loss: 0.21564 | Test Acc: 90.67%\n",
            "Epoch: 380 | Loss: 0.18679 | Acc: 92.00% | Test Loss: 0.21424 | Test Acc: 91.00%\n",
            "Epoch: 390 | Loss: 0.19107 | Acc: 91.58% | Test Loss: 0.21869 | Test Acc: 90.67%\n",
            "Epoch: 400 | Loss: 0.18761 | Acc: 91.92% | Test Loss: 0.21660 | Test Acc: 90.33%\n",
            "Epoch: 410 | Loss: 0.18893 | Acc: 91.50% | Test Loss: 0.21695 | Test Acc: 90.67%\n",
            "Epoch: 420 | Loss: 0.19196 | Acc: 91.83% | Test Loss: 0.22567 | Test Acc: 90.67%\n",
            "Epoch: 430 | Loss: 0.18819 | Acc: 91.67% | Test Loss: 0.21452 | Test Acc: 90.67%\n",
            "Epoch: 440 | Loss: 0.18629 | Acc: 92.00% | Test Loss: 0.21704 | Test Acc: 90.67%\n",
            "Epoch: 450 | Loss: 0.18639 | Acc: 92.08% | Test Loss: 0.21774 | Test Acc: 90.67%\n",
            "Epoch: 460 | Loss: 0.18624 | Acc: 92.00% | Test Loss: 0.21634 | Test Acc: 90.67%\n",
            "Epoch: 470 | Loss: 0.18700 | Acc: 91.83% | Test Loss: 0.21817 | Test Acc: 90.33%\n",
            "Epoch: 480 | Loss: 0.18816 | Acc: 91.92% | Test Loss: 0.22110 | Test Acc: 90.67%\n",
            "Epoch: 490 | Loss: 0.18915 | Acc: 91.75% | Test Loss: 0.21715 | Test Acc: 90.33%\n",
            "Epoch: 500 | Loss: 0.18868 | Acc: 92.08% | Test Loss: 0.21990 | Test Acc: 91.00%\n",
            "Epoch: 510 | Loss: 0.18931 | Acc: 91.58% | Test Loss: 0.21952 | Test Acc: 90.33%\n",
            "Epoch: 520 | Loss: 0.18897 | Acc: 92.08% | Test Loss: 0.22113 | Test Acc: 91.00%\n",
            "Epoch: 530 | Loss: 0.18879 | Acc: 91.75% | Test Loss: 0.21848 | Test Acc: 90.33%\n",
            "Epoch: 540 | Loss: 0.18710 | Acc: 92.08% | Test Loss: 0.22025 | Test Acc: 91.00%\n",
            "Epoch: 550 | Loss: 0.18566 | Acc: 92.00% | Test Loss: 0.21716 | Test Acc: 90.67%\n",
            "Epoch: 560 | Loss: 0.18562 | Acc: 91.75% | Test Loss: 0.21921 | Test Acc: 91.00%\n",
            "Epoch: 570 | Loss: 0.18847 | Acc: 91.50% | Test Loss: 0.22044 | Test Acc: 90.00%\n",
            "Epoch: 580 | Loss: 0.18826 | Acc: 92.08% | Test Loss: 0.22242 | Test Acc: 91.00%\n",
            "Epoch: 590 | Loss: 0.18772 | Acc: 91.75% | Test Loss: 0.22125 | Test Acc: 90.00%\n",
            "Epoch: 600 | Loss: 0.18747 | Acc: 91.92% | Test Loss: 0.22240 | Test Acc: 91.00%\n",
            "Epoch: 610 | Loss: 0.18823 | Acc: 91.58% | Test Loss: 0.22005 | Test Acc: 90.33%\n",
            "Epoch: 620 | Loss: 0.18543 | Acc: 92.17% | Test Loss: 0.22042 | Test Acc: 90.67%\n",
            "Epoch: 630 | Loss: 0.18528 | Acc: 91.83% | Test Loss: 0.21880 | Test Acc: 90.33%\n",
            "Epoch: 640 | Loss: 0.18688 | Acc: 91.83% | Test Loss: 0.21720 | Test Acc: 90.67%\n",
            "Epoch: 650 | Loss: 0.18553 | Acc: 92.00% | Test Loss: 0.22020 | Test Acc: 90.00%\n",
            "Epoch: 660 | Loss: 0.18542 | Acc: 92.00% | Test Loss: 0.21812 | Test Acc: 90.33%\n",
            "Epoch: 670 | Loss: 0.18869 | Acc: 91.92% | Test Loss: 0.22247 | Test Acc: 91.00%\n",
            "Epoch: 680 | Loss: 0.19102 | Acc: 91.50% | Test Loss: 0.22129 | Test Acc: 90.00%\n",
            "Epoch: 690 | Loss: 0.18643 | Acc: 91.92% | Test Loss: 0.22094 | Test Acc: 90.67%\n",
            "Epoch: 700 | Loss: 0.18616 | Acc: 92.00% | Test Loss: 0.21859 | Test Acc: 90.33%\n",
            "Epoch: 710 | Loss: 0.18688 | Acc: 91.83% | Test Loss: 0.22094 | Test Acc: 91.00%\n",
            "Epoch: 720 | Loss: 0.18640 | Acc: 91.92% | Test Loss: 0.21931 | Test Acc: 90.33%\n",
            "Epoch: 730 | Loss: 0.18841 | Acc: 91.92% | Test Loss: 0.22538 | Test Acc: 91.00%\n",
            "Epoch: 740 | Loss: 0.18792 | Acc: 91.58% | Test Loss: 0.22408 | Test Acc: 89.67%\n",
            "Epoch: 750 | Loss: 0.18672 | Acc: 91.92% | Test Loss: 0.22388 | Test Acc: 91.00%\n",
            "Epoch: 760 | Loss: 0.18637 | Acc: 91.58% | Test Loss: 0.22154 | Test Acc: 91.00%\n",
            "Epoch: 770 | Loss: 0.19110 | Acc: 91.92% | Test Loss: 0.22876 | Test Acc: 90.67%\n",
            "Epoch: 780 | Loss: 0.18476 | Acc: 92.00% | Test Loss: 0.21995 | Test Acc: 90.67%\n",
            "Epoch: 790 | Loss: 0.18800 | Acc: 92.00% | Test Loss: 0.22079 | Test Acc: 91.00%\n",
            "Epoch: 800 | Loss: 0.18545 | Acc: 92.00% | Test Loss: 0.21845 | Test Acc: 90.33%\n",
            "Epoch: 810 | Loss: 0.18762 | Acc: 92.00% | Test Loss: 0.22575 | Test Acc: 91.00%\n",
            "Epoch: 820 | Loss: 0.18812 | Acc: 92.00% | Test Loss: 0.22445 | Test Acc: 90.33%\n",
            "Epoch: 830 | Loss: 0.18712 | Acc: 91.83% | Test Loss: 0.22372 | Test Acc: 90.67%\n",
            "Epoch: 840 | Loss: 0.18621 | Acc: 91.67% | Test Loss: 0.22380 | Test Acc: 91.00%\n",
            "Epoch: 850 | Loss: 0.18886 | Acc: 91.75% | Test Loss: 0.22632 | Test Acc: 90.33%\n",
            "Epoch: 860 | Loss: 0.18642 | Acc: 91.83% | Test Loss: 0.22413 | Test Acc: 91.00%\n",
            "Epoch: 870 | Loss: 0.18489 | Acc: 91.92% | Test Loss: 0.22140 | Test Acc: 90.33%\n",
            "Epoch: 880 | Loss: 0.18676 | Acc: 91.75% | Test Loss: 0.22627 | Test Acc: 91.00%\n",
            "Epoch: 890 | Loss: 0.18470 | Acc: 92.08% | Test Loss: 0.22212 | Test Acc: 90.33%\n",
            "Epoch: 900 | Loss: 0.18489 | Acc: 91.83% | Test Loss: 0.22107 | Test Acc: 90.67%\n",
            "Epoch: 910 | Loss: 0.18807 | Acc: 92.00% | Test Loss: 0.22330 | Test Acc: 91.00%\n",
            "Epoch: 920 | Loss: 0.18838 | Acc: 91.50% | Test Loss: 0.22299 | Test Acc: 90.00%\n",
            "Epoch: 930 | Loss: 0.18442 | Acc: 91.83% | Test Loss: 0.22399 | Test Acc: 90.33%\n",
            "Epoch: 940 | Loss: 0.18423 | Acc: 91.83% | Test Loss: 0.21940 | Test Acc: 90.67%\n",
            "Epoch: 950 | Loss: 0.18418 | Acc: 91.92% | Test Loss: 0.22089 | Test Acc: 90.33%\n",
            "Epoch: 960 | Loss: 0.18481 | Acc: 91.92% | Test Loss: 0.22282 | Test Acc: 90.33%\n",
            "Epoch: 970 | Loss: 0.18412 | Acc: 91.75% | Test Loss: 0.22246 | Test Acc: 90.33%\n",
            "Epoch: 980 | Loss: 0.18408 | Acc: 92.00% | Test Loss: 0.22051 | Test Acc: 90.33%\n",
            "Epoch: 990 | Loss: 0.18644 | Acc: 91.83% | Test Loss: 0.22332 | Test Acc: 90.33%\n",
            "Epoch: 1000 | Loss: 0.18601 | Acc: 91.92% | Test Loss: 0.22051 | Test Acc: 90.33%\n"
          ]
        }
      ]
    },
    {
      "cell_type": "code",
      "source": [],
      "metadata": {
        "id": "TLE86gwwM3no"
      },
      "execution_count": null,
      "outputs": []
    }
  ]
}