{
  "nbformat": 4,
  "nbformat_minor": 0,
  "metadata": {
    "colab": {
      "provenance": [],
      "gpuType": "T4",
      "authorship_tag": "ABX9TyNc6CUU5ezQ3pnrpqDSTRLp",
      "include_colab_link": true
    },
    "kernelspec": {
      "name": "python3",
      "display_name": "Python 3"
    },
    "language_info": {
      "name": "python"
    },
    "accelerator": "GPU"
  },
  "cells": [
    {
      "cell_type": "markdown",
      "metadata": {
        "id": "view-in-github",
        "colab_type": "text"
      },
      "source": [
        "<a href=\"https://colab.research.google.com/github/therishabhmittal-05/Pytorch/blob/main/pytorch_CIFAR10.ipynb\" target=\"_parent\"><img src=\"https://colab.research.google.com/assets/colab-badge.svg\" alt=\"Open In Colab\"/></a>"
      ]
    },
    {
      "cell_type": "code",
      "execution_count": 1,
      "metadata": {
        "id": "p8ECVykjBdKp"
      },
      "outputs": [],
      "source": [
        "import torch\n",
        "from torch import nn, optim\n",
        "from torch.utils.data import DataLoader\n",
        "\n",
        "import torchvision"
      ]
    },
    {
      "cell_type": "code",
      "source": [
        "device = torch.device(\"cuda\" if torch.cuda.is_available() else \"cpu\")\n",
        "print(\"Using device:\", device)"
      ],
      "metadata": {
        "colab": {
          "base_uri": "https://localhost:8080/"
        },
        "id": "6_1LvtsJhQxn",
        "outputId": "5460254c-94e9-4fd2-b0ad-da44d303322a"
      },
      "execution_count": 2,
      "outputs": [
        {
          "output_type": "stream",
          "name": "stdout",
          "text": [
            "Using device: cuda\n"
          ]
        }
      ]
    },
    {
      "cell_type": "code",
      "source": [
        "transform = torchvision.transforms.Compose([torchvision.transforms.ToTensor()])"
      ],
      "metadata": {
        "id": "EvqSwObpGRJN"
      },
      "execution_count": 3,
      "outputs": []
    },
    {
      "cell_type": "code",
      "source": [
        "trainset = torchvision.datasets.CIFAR10(root='./data', train = True, download=True,  transform=transform)\n",
        "testset = torchvision.datasets.CIFAR10(root='/data',  train=False, download=True, transform=transform)"
      ],
      "metadata": {
        "id": "2MZjKGxCGkZ7",
        "colab": {
          "base_uri": "https://localhost:8080/"
        },
        "outputId": "a2eb6b23-13f9-4268-af99-9f7fc9c4dbb0"
      },
      "execution_count": 4,
      "outputs": [
        {
          "output_type": "stream",
          "name": "stderr",
          "text": [
            "100%|██████████| 170M/170M [00:03<00:00, 44.3MB/s]\n",
            "100%|██████████| 170M/170M [00:03<00:00, 43.4MB/s]\n"
          ]
        }
      ]
    },
    {
      "cell_type": "code",
      "source": [
        "batch_size = 32\n",
        "trainloader = DataLoader(trainset, batch_size=32, shuffle=True)\n",
        "testloader = DataLoader(testset, batch_size=32, shuffle=True)\n"
      ],
      "metadata": {
        "id": "HPk_K-QNHXuY"
      },
      "execution_count": 5,
      "outputs": []
    },
    {
      "cell_type": "code",
      "source": [
        "import matplotlib.pyplot as plt\n",
        "plt.imshow(trainset.data[4])\n",
        "plt.show()\n",
        "print(trainset.targets[4])"
      ],
      "metadata": {
        "colab": {
          "base_uri": "https://localhost:8080/",
          "height": 447
        },
        "id": "rLpeB15bG89n",
        "outputId": "2158b4b4-963a-4656-dec8-2e0b630c241e"
      },
      "execution_count": 6,
      "outputs": [
        {
          "output_type": "display_data",
          "data": {
            "text/plain": [
              "<Figure size 640x480 with 1 Axes>"
            ],
            "image/png": "[encoded data removed]"
          },
          "metadata": {}
        },
        {
          "output_type": "stream",
          "name": "stdout",
          "text": [
            "1\n"
          ]
        }
      ]
    },
    {
      "cell_type": "code",
      "source": [
        "class CIFAR_10(nn.Module):\n",
        "  def __init__(self):\n",
        "    super().__init__()\n",
        "    self.features = nn.Sequential(\n",
        "        # input -> (3, 32, 32)\n",
        "        nn.Conv2d(3, 64, kernel_size=3, padding=1, stride=1),\n",
        "        # output -> (64, 32, 32)\n",
        "        nn.ReLU(),\n",
        "        nn.Dropout(0.3),\n",
        "\n",
        "        nn.Conv2d(64, 128, kernel_size=3, padding=1, stride=1),\n",
        "        # output -> (128, 32, 32)\n",
        "        nn.ReLU(),\n",
        "        nn.Dropout(0.3),\n",
        "\n",
        "        nn.MaxPool2d(kernel_size=2,stride=2)\n",
        "        # output -> (128, 16, 16)\n",
        "    )\n",
        "    self.classifier = nn.Sequential(\n",
        "        nn.Flatten(),\n",
        "        nn.Linear(128*16*16, 8192),\n",
        "        nn.ReLU(),\n",
        "        nn.Dropout(0.3),\n",
        "        nn.Linear(8192, 512),\n",
        "        nn.ReLU(),\n",
        "        nn.Dropout(0.3),\n",
        "        nn.Linear(512, 10)\n",
        "    )\n",
        "  def forward(self, x):\n",
        "    x = self.features(x)\n",
        "    logits = self.classifier(x)\n",
        "    return logits"
      ],
      "metadata": {
        "id": "HPzdEfMIHuT1"
      },
      "execution_count": 7,
      "outputs": []
    },
    {
      "cell_type": "code",
      "source": [
        "class Alex_CIFAR_10(nn.Module):\n",
        "    def __init__(self):\n",
        "        super(Alex_CIFAR_10, self).__init__()\n",
        "        self.features = nn.Sequential(\n",
        "            nn.Conv2d(3, 64, kernel_size=3, stride=1, padding=1),  # Smaller kernel\n",
        "            nn.ReLU(inplace=True),\n",
        "            nn.MaxPool2d(kernel_size=2, stride=2),  # 32 -> 16\n",
        "\n",
        "            nn.Conv2d(64, 192, kernel_size=3, padding=1),\n",
        "            nn.ReLU(inplace=True),\n",
        "            nn.MaxPool2d(kernel_size=2, stride=2),  # 16 -> 8\n",
        "\n",
        "            nn.Conv2d(192, 384, kernel_size=3, padding=1),\n",
        "            nn.ReLU(inplace=True),\n",
        "\n",
        "            nn.Conv2d(384, 256, kernel_size=3, padding=1),\n",
        "            nn.ReLU(inplace=True),\n",
        "\n",
        "            nn.Conv2d(256, 256, kernel_size=3, padding=1),\n",
        "            nn.ReLU(inplace=True),\n",
        "            nn.MaxPool2d(kernel_size=2, stride=2)  # 8 -> 4\n",
        "        )\n",
        "\n",
        "        self.classifier = nn.Sequential(\n",
        "            nn.Dropout(0.5),\n",
        "            nn.Linear(256 * 4 * 4, 1024),\n",
        "            nn.ReLU(inplace=True),\n",
        "            nn.Dropout(0.5),\n",
        "            nn.Linear(1024, 512),\n",
        "            nn.ReLU(inplace=True),\n",
        "            nn.Linear(512, 10)\n",
        "        )\n",
        "\n",
        "    def forward(self, x):\n",
        "        x = self.features(x)\n",
        "        x = x.view(x.size(0), -1)  # Flatten\n",
        "        logits = self.classifier(x)\n",
        "        return logits\n"
      ],
      "metadata": {
        "id": "w5rjlHG2xTX8"
      },
      "execution_count": 16,
      "outputs": []
    },
    {
      "cell_type": "code",
      "source": [
        "# model = CIFAR_10().to(device)\n",
        "model = Alex_CIFAR_10().to(device)\n",
        "\n",
        "lossfn = nn.CrossEntropyLoss()\n",
        "optimizer = optim.Adam(model.parameters(), lr=0.001)"
      ],
      "metadata": {
        "id": "RZn42MQ-N0jX"
      },
      "execution_count": 17,
      "outputs": []
    },
    {
      "cell_type": "code",
      "source": [
        "print(model.parameters())"
      ],
      "metadata": {
        "colab": {
          "base_uri": "https://localhost:8080/"
        },
        "id": "wod9E8LrJWCH",
        "outputId": "b36bbace-5317-43e4-d478-d2f887e5bb67"
      },
      "execution_count": 18,
      "outputs": [
        {
          "output_type": "stream",
          "name": "stdout",
          "text": [
            "<generator object Module.parameters at 0x7de895ca3bc0>\n"
          ]
        }
      ]
    },
    {
      "cell_type": "code",
      "source": [
        "from torchsummary import summary\n",
        "summary(model, input_size=(3, 32, 32))"
      ],
      "metadata": {
        "colab": {
          "base_uri": "https://localhost:8080/"
        },
        "id": "aGOnUolTUfsH",
        "outputId": "29f9583c-b242-4b57-ca00-5e4703be55b8"
      },
      "execution_count": 19,
      "outputs": [
        {
          "output_type": "stream",
          "name": "stdout",
          "text": [
            "----------------------------------------------------------------\n",
            "        Layer (type)               Output Shape         Param #\n",
            "================================================================\n",
            "            Conv2d-1           [-1, 64, 32, 32]           1,792\n",
            "              ReLU-2           [-1, 64, 32, 32]               0\n",
            "         MaxPool2d-3           [-1, 64, 16, 16]               0\n",
            "            Conv2d-4          [-1, 192, 16, 16]         110,784\n",
            "              ReLU-5          [-1, 192, 16, 16]               0\n",
            "         MaxPool2d-6            [-1, 192, 8, 8]               0\n",
            "            Conv2d-7            [-1, 384, 8, 8]         663,936\n",
            "              ReLU-8            [-1, 384, 8, 8]               0\n",
            "            Conv2d-9            [-1, 256, 8, 8]         884,992\n",
            "             ReLU-10            [-1, 256, 8, 8]               0\n",
            "           Conv2d-11            [-1, 256, 8, 8]         590,080\n",
            "             ReLU-12            [-1, 256, 8, 8]               0\n",
            "        MaxPool2d-13            [-1, 256, 4, 4]               0\n",
            "          Dropout-14                 [-1, 4096]               0\n",
            "           Linear-15                 [-1, 1024]       4,195,328\n",
            "             ReLU-16                 [-1, 1024]               0\n",
            "          Dropout-17                 [-1, 1024]               0\n",
            "           Linear-18                  [-1, 512]         524,800\n",
            "             ReLU-19                  [-1, 512]               0\n",
            "           Linear-20                   [-1, 10]           5,130\n",
            "================================================================\n",
            "Total params: 6,976,842\n",
            "Trainable params: 6,976,842\n",
            "Non-trainable params: 0\n",
            "----------------------------------------------------------------\n",
            "Input size (MB): 0.01\n",
            "Forward/backward pass size (MB): 2.94\n",
            "Params size (MB): 26.61\n",
            "Estimated Total Size (MB): 29.56\n",
            "----------------------------------------------------------------\n"
          ]
        }
      ]
    },
    {
      "cell_type": "code",
      "source": [
        "n_epochs = 10\n",
        "for epoch in range(n_epochs):\n",
        "    model.train()\n",
        "    running_loss = 0.0\n",
        "\n",
        "    for inputs, labels in trainloader:\n",
        "        inputs, labels = inputs.to(device), labels.to(device)\n",
        "        optimizer.zero_grad()\n",
        "        yhat = model(inputs)\n",
        "        loss = lossfn(yhat, labels)\n",
        "        loss.backward()\n",
        "        optimizer.step()\n",
        "\n",
        "        running_loss += loss.item() * inputs.size(0)\n",
        "\n",
        "    epoch_loss = running_loss / len(trainloader.dataset)\n",
        "\n",
        "    model.eval()\n",
        "    correct = 0\n",
        "    total = 0\n",
        "    with torch.no_grad():\n",
        "        for inputs, labels in testloader:\n",
        "            inputs, labels = inputs.to(device), labels.to(device)\n",
        "            outputs = model(inputs)\n",
        "            _, preds = torch.max(outputs, 1)\n",
        "            correct += (preds == labels).sum().item()\n",
        "            total += labels.size(0)\n",
        "\n",
        "    accuracy = 100 * correct / total\n",
        "    print(f\"Epoch [{epoch+1}/{n_epochs}] - Loss: {epoch_loss:.4f} - Accuracy: {accuracy:.2f}%\")"
      ],
      "metadata": {
        "colab": {
          "base_uri": "https://localhost:8080/"
        },
        "id": "6u-pPPExiFTI",
        "outputId": "f7a72932-f60f-43b8-b9bf-d8b6db99714b"
      },
      "execution_count": 20,
      "outputs": [
        {
          "output_type": "stream",
          "name": "stdout",
          "text": [
            "Epoch [1/10] - Loss: 1.7303 - Accuracy: 50.10%\n",
            "Epoch [2/10] - Loss: 1.3345 - Accuracy: 57.97%\n",
            "Epoch [3/10] - Loss: 1.1650 - Accuracy: 59.47%\n",
            "Epoch [4/10] - Loss: 1.0692 - Accuracy: 61.37%\n",
            "Epoch [5/10] - Loss: 0.9944 - Accuracy: 67.37%\n",
            "Epoch [6/10] - Loss: 0.9402 - Accuracy: 68.93%\n",
            "Epoch [7/10] - Loss: 0.8917 - Accuracy: 69.41%\n",
            "Epoch [8/10] - Loss: 0.8473 - Accuracy: 69.12%\n",
            "Epoch [9/10] - Loss: 0.8156 - Accuracy: 71.75%\n",
            "Epoch [10/10] - Loss: 0.7832 - Accuracy: 70.63%\n"
          ]
        }
      ]
    },
    {
      "cell_type": "code",
      "source": [
        "torch.save(model.state_dict(), \"cifar10model.pth\")"
      ],
      "metadata": {
        "id": "oPpimCA-UjA1"
      },
      "execution_count": 21,
      "outputs": []
    },
    {
      "cell_type": "code",
      "source": [
        "\n",
        "# for epoch in range(n_epochs):\n",
        "#   for inputs, labels in trainloader:\n",
        "#     inputs, labels = inputs.to(device), labels.to(device)\n",
        "#     yhat = model(inputs)\n",
        "#     loss = lossfn(yhat, labels)\n",
        "#     optimizer.zero_grad()\n",
        "#     loss.backward()\n",
        "#     optimizer.step()\n",
        "#   acc = 0\n",
        "#   count = 0\n",
        "#   for inputs, labels in testloader:\n",
        "#       y_pred = model(inputs)\n",
        "#       acc += (torch.argmax(y_pred, 1) == labels).float().sum()\n",
        "#       count += len(labels)\n",
        "#   acc /= count\n",
        "#   print(\"Epoch %d: model accuracy %.2f%%\" % (epoch, acc*100))"
      ],
      "metadata": {
        "id": "okJ9Vl63SkU2"
      },
      "execution_count": 14,
      "outputs": []
    },
    {
      "cell_type": "code",
      "source": [],
      "metadata": {
        "id": "Rkaqw-rxZwiL"
      },
      "execution_count": null,
      "outputs": []
    }
  ]
}